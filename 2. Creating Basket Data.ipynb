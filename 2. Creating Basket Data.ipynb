{
 "cells": [
  {
   "cell_type": "markdown",
   "id": "a208137d",
   "metadata": {},
   "source": [
    "# 2. Creating Basket Data + DTM Data\n",
    "\n",
    "The purpose of this notebook is to generate basket data, which is good for clusering and association roles mining. The desired shape of the table has each row is a document, and the columns are the individual words. Finally, the output will be in a csv format.\n",
    "\n",
    "The data used in this notebook are from the Count Vectorizer. This is used so that the values in the CountVectorizer can be converted to binary, and then the row can be cleaned."
   ]
  },
  {
   "cell_type": "markdown",
   "id": "0e90ab29",
   "metadata": {},
   "source": [
    "## 1. Environment Creation\n",
    "\n",
    "### 1.1 Library Import"
   ]
  },
  {
   "cell_type": "code",
   "execution_count": 1,
   "id": "993c1c9a",
   "metadata": {},
   "outputs": [],
   "source": [
    "import pandas as pd\n",
    "import os\n",
    "from tqdm.notebook import tqdm\n",
    "import csv"
   ]
  },
  {
   "cell_type": "markdown",
   "id": "0e06a71e",
   "metadata": {},
   "source": [
    "### 1.2 Data Import"
   ]
  },
  {
   "cell_type": "code",
   "execution_count": 33,
   "id": "65e5d8d4",
   "metadata": {},
   "outputs": [],
   "source": [
    "bill_information = pd.read_csv(r\"C:\\Users\\natal\\OneDrive\\university\\info 5653\\data\\Bills Lemmed- Count Vectorizer.csv\")"
   ]
  },
  {
   "cell_type": "code",
   "execution_count": 34,
   "id": "e47155db",
   "metadata": {},
   "outputs": [
    {
     "data": {
      "text/html": [
       "<div>\n",
       "<style scoped>\n",
       "    .dataframe tbody tr th:only-of-type {\n",
       "        vertical-align: middle;\n",
       "    }\n",
       "\n",
       "    .dataframe tbody tr th {\n",
       "        vertical-align: top;\n",
       "    }\n",
       "\n",
       "    .dataframe thead th {\n",
       "        text-align: right;\n",
       "    }\n",
       "</style>\n",
       "<table border=\"1\" class=\"dataframe\">\n",
       "  <thead>\n",
       "    <tr style=\"text-align: right;\">\n",
       "      <th></th>\n",
       "      <th>Unnamed: 0</th>\n",
       "      <th>Bill Type</th>\n",
       "      <th>Sponser Affiliation</th>\n",
       "      <th>Sponser State</th>\n",
       "      <th>Committees</th>\n",
       "      <th>aa</th>\n",
       "      <th>aaa</th>\n",
       "      <th>aarhu</th>\n",
       "      <th>ab</th>\n",
       "      <th>abandon</th>\n",
       "      <th>...</th>\n",
       "      <th>zoe</th>\n",
       "      <th>zone</th>\n",
       "      <th>zonea</th>\n",
       "      <th>zonesnotwithstand</th>\n",
       "      <th>zoneth</th>\n",
       "      <th>zoo</th>\n",
       "      <th>zoolog</th>\n",
       "      <th>zoonot</th>\n",
       "      <th>zooplankton</th>\n",
       "      <th>zquez</th>\n",
       "    </tr>\n",
       "  </thead>\n",
       "  <tbody>\n",
       "    <tr>\n",
       "      <th>0</th>\n",
       "      <td>0</td>\n",
       "      <td>hr</td>\n",
       "      <td>D</td>\n",
       "      <td>HI</td>\n",
       "      <td>House - Natural Resources, Agriculture | Senat...</td>\n",
       "      <td>0</td>\n",
       "      <td>0</td>\n",
       "      <td>0</td>\n",
       "      <td>0</td>\n",
       "      <td>0</td>\n",
       "      <td>...</td>\n",
       "      <td>0</td>\n",
       "      <td>0</td>\n",
       "      <td>0</td>\n",
       "      <td>0</td>\n",
       "      <td>0</td>\n",
       "      <td>0</td>\n",
       "      <td>0</td>\n",
       "      <td>0</td>\n",
       "      <td>0</td>\n",
       "      <td>0</td>\n",
       "    </tr>\n",
       "    <tr>\n",
       "      <th>1</th>\n",
       "      <td>1</td>\n",
       "      <td>hr</td>\n",
       "      <td>R</td>\n",
       "      <td>NY</td>\n",
       "      <td>House - Agriculture</td>\n",
       "      <td>0</td>\n",
       "      <td>0</td>\n",
       "      <td>0</td>\n",
       "      <td>0</td>\n",
       "      <td>0</td>\n",
       "      <td>...</td>\n",
       "      <td>0</td>\n",
       "      <td>0</td>\n",
       "      <td>0</td>\n",
       "      <td>0</td>\n",
       "      <td>0</td>\n",
       "      <td>0</td>\n",
       "      <td>0</td>\n",
       "      <td>0</td>\n",
       "      <td>0</td>\n",
       "      <td>0</td>\n",
       "    </tr>\n",
       "  </tbody>\n",
       "</table>\n",
       "<p>2 rows × 15494 columns</p>\n",
       "</div>"
      ],
      "text/plain": [
       "   Unnamed: 0 Bill Type Sponser Affiliation Sponser State  \\\n",
       "0           0        hr                   D            HI   \n",
       "1           1        hr                   R            NY   \n",
       "\n",
       "                                          Committees  aa  aaa  aarhu  ab  \\\n",
       "0  House - Natural Resources, Agriculture | Senat...   0    0      0   0   \n",
       "1                                House - Agriculture   0    0      0   0   \n",
       "\n",
       "   abandon  ...  zoe  zone  zonea  zonesnotwithstand  zoneth  zoo  zoolog  \\\n",
       "0        0  ...    0     0      0                  0       0    0       0   \n",
       "1        0  ...    0     0      0                  0       0    0       0   \n",
       "\n",
       "   zoonot  zooplankton  zquez  \n",
       "0       0            0      0  \n",
       "1       0            0      0  \n",
       "\n",
       "[2 rows x 15494 columns]"
      ]
     },
     "execution_count": 34,
     "metadata": {},
     "output_type": "execute_result"
    }
   ],
   "source": [
    "bill_information.head(2)"
   ]
  },
  {
   "cell_type": "code",
   "execution_count": 2,
   "id": "814ea34d",
   "metadata": {},
   "outputs": [],
   "source": [
    "news = pd.read_csv(r\"C:\\Users\\natal\\OneDrive\\university\\info 5653\\data\\News Articles Lemmed- Count Vectorizer.csv\")"
   ]
  },
  {
   "cell_type": "code",
   "execution_count": 5,
   "id": "e644737a",
   "metadata": {},
   "outputs": [
    {
     "data": {
      "text/html": [
       "<div>\n",
       "<style scoped>\n",
       "    .dataframe tbody tr th:only-of-type {\n",
       "        vertical-align: middle;\n",
       "    }\n",
       "\n",
       "    .dataframe tbody tr th {\n",
       "        vertical-align: top;\n",
       "    }\n",
       "\n",
       "    .dataframe thead th {\n",
       "        text-align: right;\n",
       "    }\n",
       "</style>\n",
       "<table border=\"1\" class=\"dataframe\">\n",
       "  <thead>\n",
       "    <tr style=\"text-align: right;\">\n",
       "      <th></th>\n",
       "      <th>Unnamed: 0</th>\n",
       "      <th>Party</th>\n",
       "      <th>publisher</th>\n",
       "      <th>aapi</th>\n",
       "      <th>abandon</th>\n",
       "      <th>abandoned</th>\n",
       "      <th>abc</th>\n",
       "      <th>ability</th>\n",
       "      <th>able</th>\n",
       "      <th>abolish</th>\n",
       "      <th>...</th>\n",
       "      <th>yes</th>\n",
       "      <th>york</th>\n",
       "      <th>young</th>\n",
       "      <th>youth</th>\n",
       "      <th>zealot</th>\n",
       "      <th>zeldin</th>\n",
       "      <th>zero</th>\n",
       "      <th>zers</th>\n",
       "      <th>zone</th>\n",
       "      <th>zuckerberg</th>\n",
       "    </tr>\n",
       "  </thead>\n",
       "  <tbody>\n",
       "    <tr>\n",
       "      <th>0</th>\n",
       "      <td>0</td>\n",
       "      <td>Republican</td>\n",
       "      <td>The Verge</td>\n",
       "      <td>0.0</td>\n",
       "      <td>0.0</td>\n",
       "      <td>0.0</td>\n",
       "      <td>0.0</td>\n",
       "      <td>0.0</td>\n",
       "      <td>0.0</td>\n",
       "      <td>0.0</td>\n",
       "      <td>...</td>\n",
       "      <td>0.0</td>\n",
       "      <td>0.0</td>\n",
       "      <td>0.0</td>\n",
       "      <td>0.0</td>\n",
       "      <td>0.0</td>\n",
       "      <td>0.0</td>\n",
       "      <td>0.0</td>\n",
       "      <td>0.0</td>\n",
       "      <td>0.0</td>\n",
       "      <td>0.0</td>\n",
       "    </tr>\n",
       "    <tr>\n",
       "      <th>1</th>\n",
       "      <td>1</td>\n",
       "      <td>Republican</td>\n",
       "      <td>Gizmodo.com</td>\n",
       "      <td>0.0</td>\n",
       "      <td>0.0</td>\n",
       "      <td>0.0</td>\n",
       "      <td>0.0</td>\n",
       "      <td>0.0</td>\n",
       "      <td>0.0</td>\n",
       "      <td>0.0</td>\n",
       "      <td>...</td>\n",
       "      <td>0.0</td>\n",
       "      <td>0.0</td>\n",
       "      <td>0.0</td>\n",
       "      <td>0.0</td>\n",
       "      <td>0.0</td>\n",
       "      <td>0.0</td>\n",
       "      <td>0.0</td>\n",
       "      <td>0.0</td>\n",
       "      <td>0.0</td>\n",
       "      <td>0.0</td>\n",
       "    </tr>\n",
       "  </tbody>\n",
       "</table>\n",
       "<p>2 rows × 2361 columns</p>\n",
       "</div>"
      ],
      "text/plain": [
       "   Unnamed: 0       Party    publisher  aapi  abandon  abandoned  abc  \\\n",
       "0           0  Republican    The Verge   0.0      0.0        0.0  0.0   \n",
       "1           1  Republican  Gizmodo.com   0.0      0.0        0.0  0.0   \n",
       "\n",
       "   ability  able  abolish  ...  yes  york  young  youth  zealot  zeldin  zero  \\\n",
       "0      0.0   0.0      0.0  ...  0.0   0.0    0.0    0.0     0.0     0.0   0.0   \n",
       "1      0.0   0.0      0.0  ...  0.0   0.0    0.0    0.0     0.0     0.0   0.0   \n",
       "\n",
       "   zers  zone  zuckerberg  \n",
       "0   0.0   0.0         0.0  \n",
       "1   0.0   0.0         0.0  \n",
       "\n",
       "[2 rows x 2361 columns]"
      ]
     },
     "execution_count": 5,
     "metadata": {},
     "output_type": "execute_result"
    }
   ],
   "source": [
    "news.head(2)"
   ]
  },
  {
   "cell_type": "code",
   "execution_count": 6,
   "id": "935434df",
   "metadata": {},
   "outputs": [],
   "source": [
    "party_platform = pd.read_csv(r\"C:\\Users\\natal\\OneDrive\\university\\info 5653\\data\\Party Platform Lemmed- Count Vectorizer.csv\")"
   ]
  },
  {
   "cell_type": "code",
   "execution_count": 7,
   "id": "1a7f1803",
   "metadata": {},
   "outputs": [
    {
     "data": {
      "text/html": [
       "<div>\n",
       "<style scoped>\n",
       "    .dataframe tbody tr th:only-of-type {\n",
       "        vertical-align: middle;\n",
       "    }\n",
       "\n",
       "    .dataframe tbody tr th {\n",
       "        vertical-align: top;\n",
       "    }\n",
       "\n",
       "    .dataframe thead th {\n",
       "        text-align: right;\n",
       "    }\n",
       "</style>\n",
       "<table border=\"1\" class=\"dataframe\">\n",
       "  <thead>\n",
       "    <tr style=\"text-align: right;\">\n",
       "      <th></th>\n",
       "      <th>Unnamed: 0</th>\n",
       "      <th>Party</th>\n",
       "      <th>ability</th>\n",
       "      <th>able</th>\n",
       "      <th>abortion</th>\n",
       "      <th>access</th>\n",
       "      <th>accessible</th>\n",
       "      <th>according</th>\n",
       "      <th>accountability</th>\n",
       "      <th>accountable</th>\n",
       "      <th>...</th>\n",
       "      <th>won</th>\n",
       "      <th>word</th>\n",
       "      <th>work</th>\n",
       "      <th>worker</th>\n",
       "      <th>working</th>\n",
       "      <th>world</th>\n",
       "      <th>worship</th>\n",
       "      <th>worst</th>\n",
       "      <th>year</th>\n",
       "      <th>young</th>\n",
       "    </tr>\n",
       "  </thead>\n",
       "  <tbody>\n",
       "    <tr>\n",
       "      <th>0</th>\n",
       "      <td>0</td>\n",
       "      <td>Republican</td>\n",
       "      <td>1</td>\n",
       "      <td>1</td>\n",
       "      <td>1</td>\n",
       "      <td>4</td>\n",
       "      <td>1</td>\n",
       "      <td>1</td>\n",
       "      <td>1</td>\n",
       "      <td>4</td>\n",
       "      <td>...</td>\n",
       "      <td>1</td>\n",
       "      <td>1</td>\n",
       "      <td>4</td>\n",
       "      <td>15</td>\n",
       "      <td>2</td>\n",
       "      <td>15</td>\n",
       "      <td>2</td>\n",
       "      <td>1</td>\n",
       "      <td>7</td>\n",
       "      <td>7</td>\n",
       "    </tr>\n",
       "    <tr>\n",
       "      <th>1</th>\n",
       "      <td>1</td>\n",
       "      <td>Democrat</td>\n",
       "      <td>7</td>\n",
       "      <td>13</td>\n",
       "      <td>13</td>\n",
       "      <td>72</td>\n",
       "      <td>15</td>\n",
       "      <td>1</td>\n",
       "      <td>6</td>\n",
       "      <td>14</td>\n",
       "      <td>...</td>\n",
       "      <td>10</td>\n",
       "      <td>1</td>\n",
       "      <td>101</td>\n",
       "      <td>79</td>\n",
       "      <td>81</td>\n",
       "      <td>69</td>\n",
       "      <td>4</td>\n",
       "      <td>4</td>\n",
       "      <td>149</td>\n",
       "      <td>10</td>\n",
       "    </tr>\n",
       "  </tbody>\n",
       "</table>\n",
       "<p>2 rows × 894 columns</p>\n",
       "</div>"
      ],
      "text/plain": [
       "   Unnamed: 0       Party  ability  able  abortion  access  accessible  \\\n",
       "0           0  Republican        1     1         1       4           1   \n",
       "1           1    Democrat        7    13        13      72          15   \n",
       "\n",
       "   according  accountability  accountable  ...  won  word  work  worker  \\\n",
       "0          1               1            4  ...    1     1     4      15   \n",
       "1          1               6           14  ...   10     1   101      79   \n",
       "\n",
       "   working  world  worship  worst  year  young  \n",
       "0        2     15        2      1     7      7  \n",
       "1       81     69        4      4   149     10  \n",
       "\n",
       "[2 rows x 894 columns]"
      ]
     },
     "execution_count": 7,
     "metadata": {},
     "output_type": "execute_result"
    }
   ],
   "source": [
    "party_platform.head(2)"
   ]
  },
  {
   "cell_type": "markdown",
   "id": "7b74c972",
   "metadata": {},
   "source": [
    "### 1.2.2 Light Data Cleaning\n",
    "\n",
    "The data utilized in this notebook has already undergone extensive cleaning processes, which may be viewed on [my project page](https://nataliermcastro.github.io/projects/2025/01/14/political-stances-data.html). In this section, the labels will be removed and the unnamed column will be dropped."
   ]
  },
  {
   "cell_type": "code",
   "execution_count": 35,
   "id": "e075b038",
   "metadata": {},
   "outputs": [],
   "source": [
    "bill_information.drop(columns=['Unnamed: 0','Sponser State','Bill Type','Sponser Affiliation','Committees'],inplace=True)"
   ]
  },
  {
   "cell_type": "code",
   "execution_count": 36,
   "id": "5110e6e0",
   "metadata": {},
   "outputs": [],
   "source": [
    "bill_information.drop(columns=['helvetica','noto','sego','neue','vh','html','webkit','emoji','blinkmacsystemfont','arial','roboto','ui','serif',\n",
    "                              'column','font','pad','width','auto','left','height'],inplace=True)"
   ]
  },
  {
   "cell_type": "code",
   "execution_count": 3,
   "id": "b8e5f2de",
   "metadata": {},
   "outputs": [],
   "source": [
    "news.drop(columns=['Unnamed: 0','Party','publisher'],inplace=True)"
   ]
  },
  {
   "cell_type": "code",
   "execution_count": 23,
   "id": "05e3dbad",
   "metadata": {},
   "outputs": [],
   "source": [
    "party_platform.drop(columns=['Unnamed: 0','Party'],inplace=True)"
   ]
  },
  {
   "cell_type": "markdown",
   "id": "0a1e2679",
   "metadata": {},
   "source": [
    "## 2. Creating Basket Data\n",
    "\n",
    "### 2.1 Assembling the Transactions"
   ]
  },
  {
   "cell_type": "code",
   "execution_count": 28,
   "id": "9df03d98",
   "metadata": {},
   "outputs": [],
   "source": [
    "def transaction_creator(index,basket):\n",
    "    transcation_dictionary = {key:val for key, val in basket[index].items() if val != 0.0}\n",
    "    items = list(transcation_dictionary.keys())\n",
    "    return (items)"
   ]
  },
  {
   "cell_type": "code",
   "execution_count": 37,
   "id": "a2a24b51",
   "metadata": {},
   "outputs": [],
   "source": [
    "news_basket = news.to_dict(orient='records')\n",
    "bills_basket = bill_information.to_dict(orient='records')\n",
    "party_basket = party_platform.to_dict(orient='records')"
   ]
  },
  {
   "cell_type": "code",
   "execution_count": 38,
   "id": "48077915",
   "metadata": {},
   "outputs": [],
   "source": [
    "baskets = [news_basket,bills_basket,party_basket]"
   ]
  },
  {
   "cell_type": "code",
   "execution_count": 39,
   "id": "4a318710",
   "metadata": {},
   "outputs": [
    {
     "data": {
      "application/vnd.jupyter.widget-view+json": {
       "model_id": "637ff22bcb324ed0b0065a4d33a9e006",
       "version_major": 2,
       "version_minor": 0
      },
      "text/plain": [
       "🛒🐛... | inching through the store:   0%|          | 0/820 [00:00<?, ?it/s]"
      ]
     },
     "metadata": {},
     "output_type": "display_data"
    },
    {
     "data": {
      "application/vnd.jupyter.widget-view+json": {
       "model_id": "df6bd32321a043c889a0a9cb090feefa",
       "version_major": 2,
       "version_minor": 0
      },
      "text/plain": [
       "🛒🐛... | inching through the store:   0%|          | 0/3261 [00:00<?, ?it/s]"
      ]
     },
     "metadata": {},
     "output_type": "display_data"
    },
    {
     "data": {
      "application/vnd.jupyter.widget-view+json": {
       "model_id": "3b73043322554ca8a21570f6b46dfd68",
       "version_major": 2,
       "version_minor": 0
      },
      "text/plain": [
       "🛒🐛... | inching through the store:   0%|          | 0/2 [00:00<?, ?it/s]"
      ]
     },
     "metadata": {},
     "output_type": "display_data"
    }
   ],
   "source": [
    "transactions = []\n",
    "\n",
    "for current_basket in baskets:\n",
    "    for index in tqdm(range(0,len(current_basket)),desc='🛒🐛... | inching through the store'):\n",
    "        transactions.append(transaction_creator(index,current_basket))\n",
    "        "
   ]
  },
  {
   "cell_type": "code",
   "execution_count": 57,
   "id": "c0493d3e",
   "metadata": {},
   "outputs": [
    {
     "data": {
      "text/plain": [
       "['ai',\n",
       " 'backing',\n",
       " 'billionaire',\n",
       " 'day',\n",
       " 'donald',\n",
       " 'electric',\n",
       " 'ha',\n",
       " 'impacting',\n",
       " 'industry',\n",
       " 'news',\n",
       " 'office',\n",
       " 'policy',\n",
       " 'president',\n",
       " 'taking',\n",
       " 'tech',\n",
       " 'tiktok',\n",
       " 'time',\n",
       " 'trump',\n",
       " 'vehicle']"
      ]
     },
     "execution_count": 57,
     "metadata": {},
     "output_type": "execute_result"
    }
   ],
   "source": [
    "## And checking to make sure it worked...\n",
    "transactions[0]"
   ]
  },
  {
   "cell_type": "markdown",
   "id": "5f9d3d25",
   "metadata": {},
   "source": [
    "### 2.2 Saving the Basket Data"
   ]
  },
  {
   "cell_type": "code",
   "execution_count": 40,
   "id": "21c497d1",
   "metadata": {},
   "outputs": [],
   "source": [
    "''' WRITING TO A CSV '''\n",
    "\n",
    "with open('Basket Data.csv', 'w', newline='\\n') as csvfile:\n",
    "    writer = csv.writer(csvfile)\n",
    "    writer.writerows(transactions)"
   ]
  },
  {
   "cell_type": "markdown",
   "id": "4d29a5e3",
   "metadata": {},
   "source": [
    "## 3. Creating Document Term Matrix Data"
   ]
  },
  {
   "cell_type": "code",
   "execution_count": 41,
   "id": "0323c9e4",
   "metadata": {},
   "outputs": [],
   "source": [
    "dtm_df = pd.concat([bill_information,news, party_platform])"
   ]
  },
  {
   "cell_type": "code",
   "execution_count": 42,
   "id": "0d2b4201",
   "metadata": {},
   "outputs": [
    {
     "data": {
      "text/html": [
       "<div>\n",
       "<style scoped>\n",
       "    .dataframe tbody tr th:only-of-type {\n",
       "        vertical-align: middle;\n",
       "    }\n",
       "\n",
       "    .dataframe tbody tr th {\n",
       "        vertical-align: top;\n",
       "    }\n",
       "\n",
       "    .dataframe thead th {\n",
       "        text-align: right;\n",
       "    }\n",
       "</style>\n",
       "<table border=\"1\" class=\"dataframe\">\n",
       "  <thead>\n",
       "    <tr style=\"text-align: right;\">\n",
       "      <th></th>\n",
       "      <th>aa</th>\n",
       "      <th>aaa</th>\n",
       "      <th>aarhu</th>\n",
       "      <th>ab</th>\n",
       "      <th>abandon</th>\n",
       "      <th>abandonth</th>\n",
       "      <th>abat</th>\n",
       "      <th>abbrevi</th>\n",
       "      <th>abercrombi</th>\n",
       "      <th>abey</th>\n",
       "      <th>...</th>\n",
       "      <th>universal</th>\n",
       "      <th>unjustly</th>\n",
       "      <th>unlawful</th>\n",
       "      <th>unnecessary</th>\n",
       "      <th>upholding</th>\n",
       "      <th>various</th>\n",
       "      <th>vigorously</th>\n",
       "      <th>violate</th>\n",
       "      <th>weakened</th>\n",
       "      <th>whistleblower</th>\n",
       "    </tr>\n",
       "  </thead>\n",
       "  <tbody>\n",
       "    <tr>\n",
       "      <th>0</th>\n",
       "      <td>0.0</td>\n",
       "      <td>0.0</td>\n",
       "      <td>0.0</td>\n",
       "      <td>0.0</td>\n",
       "      <td>0.0</td>\n",
       "      <td>0.0</td>\n",
       "      <td>0.0</td>\n",
       "      <td>0.0</td>\n",
       "      <td>0.0</td>\n",
       "      <td>0.0</td>\n",
       "      <td>...</td>\n",
       "      <td>NaN</td>\n",
       "      <td>NaN</td>\n",
       "      <td>NaN</td>\n",
       "      <td>NaN</td>\n",
       "      <td>NaN</td>\n",
       "      <td>NaN</td>\n",
       "      <td>NaN</td>\n",
       "      <td>NaN</td>\n",
       "      <td>NaN</td>\n",
       "      <td>NaN</td>\n",
       "    </tr>\n",
       "    <tr>\n",
       "      <th>1</th>\n",
       "      <td>0.0</td>\n",
       "      <td>0.0</td>\n",
       "      <td>0.0</td>\n",
       "      <td>0.0</td>\n",
       "      <td>0.0</td>\n",
       "      <td>0.0</td>\n",
       "      <td>0.0</td>\n",
       "      <td>0.0</td>\n",
       "      <td>0.0</td>\n",
       "      <td>0.0</td>\n",
       "      <td>...</td>\n",
       "      <td>NaN</td>\n",
       "      <td>NaN</td>\n",
       "      <td>NaN</td>\n",
       "      <td>NaN</td>\n",
       "      <td>NaN</td>\n",
       "      <td>NaN</td>\n",
       "      <td>NaN</td>\n",
       "      <td>NaN</td>\n",
       "      <td>NaN</td>\n",
       "      <td>NaN</td>\n",
       "    </tr>\n",
       "    <tr>\n",
       "      <th>2</th>\n",
       "      <td>0.0</td>\n",
       "      <td>0.0</td>\n",
       "      <td>0.0</td>\n",
       "      <td>0.0</td>\n",
       "      <td>0.0</td>\n",
       "      <td>0.0</td>\n",
       "      <td>0.0</td>\n",
       "      <td>0.0</td>\n",
       "      <td>0.0</td>\n",
       "      <td>0.0</td>\n",
       "      <td>...</td>\n",
       "      <td>NaN</td>\n",
       "      <td>NaN</td>\n",
       "      <td>NaN</td>\n",
       "      <td>NaN</td>\n",
       "      <td>NaN</td>\n",
       "      <td>NaN</td>\n",
       "      <td>NaN</td>\n",
       "      <td>NaN</td>\n",
       "      <td>NaN</td>\n",
       "      <td>NaN</td>\n",
       "    </tr>\n",
       "    <tr>\n",
       "      <th>3</th>\n",
       "      <td>0.0</td>\n",
       "      <td>0.0</td>\n",
       "      <td>0.0</td>\n",
       "      <td>0.0</td>\n",
       "      <td>0.0</td>\n",
       "      <td>0.0</td>\n",
       "      <td>0.0</td>\n",
       "      <td>0.0</td>\n",
       "      <td>0.0</td>\n",
       "      <td>0.0</td>\n",
       "      <td>...</td>\n",
       "      <td>NaN</td>\n",
       "      <td>NaN</td>\n",
       "      <td>NaN</td>\n",
       "      <td>NaN</td>\n",
       "      <td>NaN</td>\n",
       "      <td>NaN</td>\n",
       "      <td>NaN</td>\n",
       "      <td>NaN</td>\n",
       "      <td>NaN</td>\n",
       "      <td>NaN</td>\n",
       "    </tr>\n",
       "    <tr>\n",
       "      <th>4</th>\n",
       "      <td>0.0</td>\n",
       "      <td>0.0</td>\n",
       "      <td>0.0</td>\n",
       "      <td>0.0</td>\n",
       "      <td>0.0</td>\n",
       "      <td>0.0</td>\n",
       "      <td>0.0</td>\n",
       "      <td>0.0</td>\n",
       "      <td>0.0</td>\n",
       "      <td>0.0</td>\n",
       "      <td>...</td>\n",
       "      <td>NaN</td>\n",
       "      <td>NaN</td>\n",
       "      <td>NaN</td>\n",
       "      <td>NaN</td>\n",
       "      <td>NaN</td>\n",
       "      <td>NaN</td>\n",
       "      <td>NaN</td>\n",
       "      <td>NaN</td>\n",
       "      <td>NaN</td>\n",
       "      <td>NaN</td>\n",
       "    </tr>\n",
       "  </tbody>\n",
       "</table>\n",
       "<p>5 rows × 17198 columns</p>\n",
       "</div>"
      ],
      "text/plain": [
       "    aa  aaa  aarhu   ab  abandon  abandonth  abat  abbrevi  abercrombi  abey  \\\n",
       "0  0.0  0.0    0.0  0.0      0.0        0.0   0.0      0.0         0.0   0.0   \n",
       "1  0.0  0.0    0.0  0.0      0.0        0.0   0.0      0.0         0.0   0.0   \n",
       "2  0.0  0.0    0.0  0.0      0.0        0.0   0.0      0.0         0.0   0.0   \n",
       "3  0.0  0.0    0.0  0.0      0.0        0.0   0.0      0.0         0.0   0.0   \n",
       "4  0.0  0.0    0.0  0.0      0.0        0.0   0.0      0.0         0.0   0.0   \n",
       "\n",
       "   ...  universal  unjustly  unlawful  unnecessary  upholding  various  \\\n",
       "0  ...        NaN       NaN       NaN          NaN        NaN      NaN   \n",
       "1  ...        NaN       NaN       NaN          NaN        NaN      NaN   \n",
       "2  ...        NaN       NaN       NaN          NaN        NaN      NaN   \n",
       "3  ...        NaN       NaN       NaN          NaN        NaN      NaN   \n",
       "4  ...        NaN       NaN       NaN          NaN        NaN      NaN   \n",
       "\n",
       "   vigorously  violate  weakened  whistleblower  \n",
       "0         NaN      NaN       NaN            NaN  \n",
       "1         NaN      NaN       NaN            NaN  \n",
       "2         NaN      NaN       NaN            NaN  \n",
       "3         NaN      NaN       NaN            NaN  \n",
       "4         NaN      NaN       NaN            NaN  \n",
       "\n",
       "[5 rows x 17198 columns]"
      ]
     },
     "execution_count": 42,
     "metadata": {},
     "output_type": "execute_result"
    }
   ],
   "source": [
    "dtm_df.head()"
   ]
  },
  {
   "cell_type": "code",
   "execution_count": 48,
   "id": "4943478a",
   "metadata": {},
   "outputs": [],
   "source": [
    "dtm_df = dtm_df.fillna(0)"
   ]
  },
  {
   "cell_type": "code",
   "execution_count": 49,
   "id": "16f0e019",
   "metadata": {},
   "outputs": [],
   "source": [
    "dtm_df.reset_index(inplace=True,drop=True)"
   ]
  },
  {
   "cell_type": "code",
   "execution_count": 50,
   "id": "e2f3c0bc",
   "metadata": {},
   "outputs": [
    {
     "data": {
      "text/html": [
       "<div>\n",
       "<style scoped>\n",
       "    .dataframe tbody tr th:only-of-type {\n",
       "        vertical-align: middle;\n",
       "    }\n",
       "\n",
       "    .dataframe tbody tr th {\n",
       "        vertical-align: top;\n",
       "    }\n",
       "\n",
       "    .dataframe thead th {\n",
       "        text-align: right;\n",
       "    }\n",
       "</style>\n",
       "<table border=\"1\" class=\"dataframe\">\n",
       "  <thead>\n",
       "    <tr style=\"text-align: right;\">\n",
       "      <th></th>\n",
       "      <th>aa</th>\n",
       "      <th>aaa</th>\n",
       "      <th>aarhu</th>\n",
       "      <th>ab</th>\n",
       "      <th>abandon</th>\n",
       "      <th>abandonth</th>\n",
       "      <th>abat</th>\n",
       "      <th>abbrevi</th>\n",
       "      <th>abercrombi</th>\n",
       "      <th>abey</th>\n",
       "      <th>...</th>\n",
       "      <th>universal</th>\n",
       "      <th>unjustly</th>\n",
       "      <th>unlawful</th>\n",
       "      <th>unnecessary</th>\n",
       "      <th>upholding</th>\n",
       "      <th>various</th>\n",
       "      <th>vigorously</th>\n",
       "      <th>violate</th>\n",
       "      <th>weakened</th>\n",
       "      <th>whistleblower</th>\n",
       "    </tr>\n",
       "  </thead>\n",
       "  <tbody>\n",
       "    <tr>\n",
       "      <th>0</th>\n",
       "      <td>0.0</td>\n",
       "      <td>0.0</td>\n",
       "      <td>0.0</td>\n",
       "      <td>0.0</td>\n",
       "      <td>0.0</td>\n",
       "      <td>0.0</td>\n",
       "      <td>0.0</td>\n",
       "      <td>0.0</td>\n",
       "      <td>0.0</td>\n",
       "      <td>0.0</td>\n",
       "      <td>...</td>\n",
       "      <td>0.0</td>\n",
       "      <td>0.0</td>\n",
       "      <td>0.0</td>\n",
       "      <td>0.0</td>\n",
       "      <td>0.0</td>\n",
       "      <td>0.0</td>\n",
       "      <td>0.0</td>\n",
       "      <td>0.0</td>\n",
       "      <td>0.0</td>\n",
       "      <td>0.0</td>\n",
       "    </tr>\n",
       "  </tbody>\n",
       "</table>\n",
       "<p>1 rows × 17198 columns</p>\n",
       "</div>"
      ],
      "text/plain": [
       "    aa  aaa  aarhu   ab  abandon  abandonth  abat  abbrevi  abercrombi  abey  \\\n",
       "0  0.0  0.0    0.0  0.0      0.0        0.0   0.0      0.0         0.0   0.0   \n",
       "\n",
       "   ...  universal  unjustly  unlawful  unnecessary  upholding  various  \\\n",
       "0  ...        0.0       0.0       0.0          0.0        0.0      0.0   \n",
       "\n",
       "   vigorously  violate  weakened  whistleblower  \n",
       "0         0.0      0.0       0.0            0.0  \n",
       "\n",
       "[1 rows x 17198 columns]"
      ]
     },
     "execution_count": 50,
     "metadata": {},
     "output_type": "execute_result"
    }
   ],
   "source": [
    "dtm_df.head(1)"
   ]
  },
  {
   "cell_type": "code",
   "execution_count": 51,
   "id": "1e38a56a",
   "metadata": {},
   "outputs": [],
   "source": [
    "dtm_df.to_csv(\"Document Term Matrix.csv\")"
   ]
  }
 ],
 "metadata": {
  "kernelspec": {
   "display_name": "Python 3 (ipykernel)",
   "language": "python",
   "name": "python3"
  },
  "language_info": {
   "codemirror_mode": {
    "name": "ipython",
    "version": 3
   },
   "file_extension": ".py",
   "mimetype": "text/x-python",
   "name": "python",
   "nbconvert_exporter": "python",
   "pygments_lexer": "ipython3",
   "version": "3.10.12"
  }
 },
 "nbformat": 4,
 "nbformat_minor": 5
}
