{
 "cells": [
  {
   "cell_type": "markdown",
   "id": "69c9b9f6",
   "metadata": {},
   "source": [
    "# 0. Data Collection\n",
    "---\n",
    "Author: Natalie Castro\n",
    "Date: 1/15/2025\n",
    "\n",
    "The purpose of this notebook is to collect varying forms of data from different sources on the Internet to answer the research question:\n",
    "\n",
    "    What are characteristics of self-identified political parities expressed in 2025 in climate change?\n"
   ]
  },
  {
   "cell_type": "markdown",
   "id": "1b2fb69f",
   "metadata": {},
   "source": [
    "## 🌐1. Environment Creation\n",
    "\n",
    "### 1.1 Library Import"
   ]
  },
  {
   "cell_type": "code",
   "execution_count": 1,
   "id": "80cf13e3",
   "metadata": {},
   "outputs": [
    {
     "name": "stderr",
     "output_type": "stream",
     "text": [
      "C:\\Users\\natal\\miniconda3\\lib\\site-packages\\pypdf\\_crypt_providers\\_cryptography.py:32: CryptographyDeprecationWarning: ARC4 has been moved to cryptography.hazmat.decrepit.ciphers.algorithms.ARC4 and will be removed from this module in 48.0.0.\n",
      "  from cryptography.hazmat.primitives.ciphers.algorithms import AES, ARC4\n"
     ]
    }
   ],
   "source": [
    "''' DATA QUERYING '''\n",
    "from bs4 import BeautifulSoup\n",
    "import json\n",
    "import requests\n",
    "from time import sleep\n",
    "import pypdf\n",
    "\n",
    "''' DATA MANAGEMENT '''\n",
    "import pandas as pd\n",
    "import regex as re"
   ]
  },
  {
   "cell_type": "markdown",
   "id": "0418cc8c",
   "metadata": {},
   "source": [
    "### 1.2 Secret Storage"
   ]
  },
  {
   "cell_type": "code",
   "execution_count": 2,
   "id": "7c39ad4d",
   "metadata": {},
   "outputs": [],
   "source": [
    "''' NEWSAPI KEY'''\n",
    "api_key = 'xxxxxxxxxxxxxxxxxxxx'"
   ]
  },
  {
   "cell_type": "markdown",
   "id": "b566eb04",
   "metadata": {},
   "source": [
    "## **📡2. API Requests**\n",
    "\n",
    "The keywords used in this analysis will be \"democrat+climate\" and \"republican+climate\"\n",
    "\n",
    "### **2.1 NewsAPI**\n",
    "\n",
    "For NewsAPI, three types of data will be collected. First, using the 'everything' endpoint which collects every article in the past five years from their corpora using a keyword. Next, will be the top headlines on January 20th, President Donald Trump's inaguration day. The final endpoint used will be the 'sources' to better undestand media production for each key word during this date.\n",
    "\n",
    "#### 2.1.1 NewsAPI: Everything Endpoint\n",
    "\n",
    "The code shown below is how the I got the API up and running, this was then iterated upon with the parameter 'page' to extract the entire set of results."
   ]
  },
  {
   "cell_type": "code",
   "execution_count": 213,
   "id": "5428f459",
   "metadata": {},
   "outputs": [],
   "source": [
    "''' BUIDLING THE URL '''\n",
    "base_url = \"https://newsapi.org/v2/everything?\"\n",
    "\n",
    "url_post = {'apiKey':api_key,\n",
    "            'source':'everything',\n",
    "            'q':'democrat+climate', ## this iteration will be looking at democrat referencing articles\n",
    "            'language':'en', ## selecting English as the data\n",
    "            'sortBy':'popularity', ## used to generate a popularity label\n",
    "}\n",
    "\n",
    "url_post2 = {'apiKey':api_key,\n",
    "            'source':'everything',\n",
    "            'q':'republican+climate', ## this iteration will be looking at democrat referencing articles\n",
    "            'language':'en', ## selecting English as the data\n",
    "            'sortBy':'popularity', ## used to generate a popularity label\n",
    "    \n",
    "}"
   ]
  },
  {
   "cell_type": "code",
   "execution_count": 208,
   "id": "e6d46750",
   "metadata": {},
   "outputs": [],
   "source": [
    "''' MAKING THE REQUEST '''\n",
    "\n",
    "response = requests.get(base_url,url_post)"
   ]
  },
  {
   "cell_type": "code",
   "execution_count": 209,
   "id": "72b10f02",
   "metadata": {},
   "outputs": [],
   "source": [
    "''' CHECKING OUT THE RESPONSE: DEMOCRAT '''\n",
    "text = response.json()"
   ]
  },
  {
   "cell_type": "code",
   "execution_count": 8,
   "id": "2debeeaf",
   "metadata": {},
   "outputs": [
    {
     "data": {
      "text/plain": [
       "{'source': {'id': None, 'name': 'CNET'},\n",
       " 'author': 'Katie Collins',\n",
       " 'title': 'For Progress on Climate and Energy in 2025, Think Local',\n",
       " 'description': \"As Trump and his anti-science agenda head for the White House, look to America's city and state leaders to drive climate action and prioritize clean energy.\",\n",
       " 'url': 'https://www.cnet.com/home/energy-and-utilities/for-progress-on-climate-and-energy-in-2025-think-local/',\n",
       " 'urlToImage': 'https://www.cnet.com/a/img/resize/5fa89cffd3d573f39b4cf70398e5bb4b3038a2d7/hub/2024/12/31/540a7c2e-63f9-445f-a311-5744bcce16a2/us-map-localized-energy-progress.jpg?auto=webp&fit=crop&height=675&width=1200',\n",
       " 'publishedAt': '2025-01-03T13:00:00Z',\n",
       " 'content': 'With its sprawling canopy of magnolia, dogwood, southern pine and oak trees, Atlanta is known as the city in the forest. The lush vegetation helps offset the pollution from the commuter traffic as pe… [+16751 chars]'}"
      ]
     },
     "execution_count": 8,
     "metadata": {},
     "output_type": "execute_result"
    }
   ],
   "source": [
    "dem_text['articles'][0]"
   ]
  },
  {
   "cell_type": "code",
   "execution_count": 9,
   "id": "8c474d42",
   "metadata": {},
   "outputs": [],
   "source": [
    "rep_text = republican_response.json()"
   ]
  },
  {
   "cell_type": "code",
   "execution_count": 10,
   "id": "f5d4a3db",
   "metadata": {},
   "outputs": [
    {
     "data": {
      "text/plain": [
       "dict_keys(['status', 'totalResults', 'articles'])"
      ]
     },
     "execution_count": 10,
     "metadata": {},
     "output_type": "execute_result"
    }
   ],
   "source": [
    "rep_text.keys()"
   ]
  },
  {
   "cell_type": "code",
   "execution_count": 11,
   "id": "3c4d43b9",
   "metadata": {},
   "outputs": [
    {
     "data": {
      "text/plain": [
       "1559"
      ]
     },
     "execution_count": 11,
     "metadata": {},
     "output_type": "execute_result"
    }
   ],
   "source": [
    "rep_text['totalResults']"
   ]
  },
  {
   "cell_type": "code",
   "execution_count": 12,
   "id": "f2541325",
   "metadata": {},
   "outputs": [
    {
     "data": {
      "text/plain": [
       "{'source': {'id': 'the-verge', 'name': 'The Verge'},\n",
       " 'author': 'Nilay Patel',\n",
       " 'title': 'Trump’s first 100 days: all the news impacting the tech industry',\n",
       " 'description': 'President Donald Trump is taking on TikTok, electric vehicle policy, and AI in his first 100 days in office. This time around, he has the backing of many tech billionaires.',\n",
       " 'url': 'https://www.theverge.com/24348851/donald-trump-presidency-tech-science-news',\n",
       " 'urlToImage': 'https://cdn.vox-cdn.com/thumbor/Nwo4_i4giY8lRM0Rtzih1IHTSLU=/0x0:2040x1360/1200x628/filters:focal(1020x680:1021x681)/cdn.vox-cdn.com/uploads/chorus_asset/file/25531809/STK175_DONALD_TRUMP_CVIRGINIA_C.jpg',\n",
       " 'publishedAt': '2025-01-22T14:30:00Z',\n",
       " 'content': 'Filed under:\\r\\nByLauren Feiner, a senior policy reporter at The Verge, covering the intersection of Silicon Valley and Capitol Hill. She spent 5 years covering tech policy at CNBC, writing about antit… [+7943 chars]'}"
      ]
     },
     "execution_count": 12,
     "metadata": {},
     "output_type": "execute_result"
    }
   ],
   "source": [
    "rep_text['articles'][0]"
   ]
  },
  {
   "cell_type": "markdown",
   "id": "45731f14",
   "metadata": {},
   "source": [
    "\n",
    "The structure of the response is a nested dictionary, with each list entry in the response a dictionary for the respective news article.\n",
    "\n",
    "**🫏Iterating for Democrat Articles**"
   ]
  },
  {
   "cell_type": "code",
   "execution_count": 13,
   "id": "611fe62a",
   "metadata": {},
   "outputs": [],
   "source": [
    "''' PAGE TURNER \n",
    "\n",
    "    INPUT: the desired page for the API call, the keyword used to build the URL\n",
    "    OUTPUT: a list of the articles from the page\n",
    "    \n",
    "    The function page_turner is used to collect the entire corpus from the NEWSAPI\n",
    "    for a particular keyword. This function is used wrapped into a for loop so \n",
    "    it can build a new url for each distinct page.\n",
    "\n",
    "'''\n",
    "\n",
    "base_url = \"https://newsapi.org/v2/everything?\"\n",
    "\n",
    "\n",
    "def page_turner(page_number,keyword):\n",
    "    sleep(2)\n",
    "    ## Building the post URL for every page in the iteration\n",
    "    url_post = {'apiKey':api_key,\n",
    "            'source':'everything',\n",
    "            'q':keyword, ## this iteration will be looking at democrat referencing articles\n",
    "            'language':'en', ## selecting English as the data\n",
    "            'sortBy':'popularity', ## used to generate a popularity label\n",
    "            'page':page_number}\n",
    "    \n",
    "    \n",
    "    response = requests.get(base_url,url_post)\n",
    "    json_ = response.json()\n",
    "    #print (json_.keys())\n",
    "    return(json_['articles'])"
   ]
  },
  {
   "cell_type": "code",
   "execution_count": 20,
   "id": "c3cb0b46",
   "metadata": {
    "collapsed": true
   },
   "outputs": [
    {
     "ename": "KeyError",
     "evalue": "'articles'",
     "output_type": "error",
     "traceback": [
      "\u001b[1;31m---------------------------------------------------------------------------\u001b[0m",
      "\u001b[1;31mKeyError\u001b[0m                                  Traceback (most recent call last)",
      "Cell \u001b[1;32mIn[20], line 4\u001b[0m\n\u001b[0;32m      1\u001b[0m nested_responses_democrat \u001b[38;5;241m=\u001b[39m []\n\u001b[0;32m      3\u001b[0m \u001b[38;5;28;01mfor\u001b[39;00m page \u001b[38;5;129;01min\u001b[39;00m \u001b[38;5;28mrange\u001b[39m(\u001b[38;5;241m1\u001b[39m,\u001b[38;5;241m7\u001b[39m):\n\u001b[1;32m----> 4\u001b[0m     page_contents \u001b[38;5;241m=\u001b[39m \u001b[43mpage_turner\u001b[49m\u001b[43m(\u001b[49m\u001b[43mpage\u001b[49m\u001b[43m,\u001b[49m\u001b[38;5;124;43m'\u001b[39;49m\u001b[38;5;124;43mdemocrat+climate\u001b[39;49m\u001b[38;5;124;43m'\u001b[39;49m\u001b[43m)\u001b[49m\n\u001b[0;32m      5\u001b[0m     nested_responses_democrat\u001b[38;5;241m.\u001b[39mappend(page_contents)\n",
      "Cell \u001b[1;32mIn[13], line 29\u001b[0m, in \u001b[0;36mpage_turner\u001b[1;34m(page_number, keyword)\u001b[0m\n\u001b[0;32m     27\u001b[0m json_ \u001b[38;5;241m=\u001b[39m response\u001b[38;5;241m.\u001b[39mjson()\n\u001b[0;32m     28\u001b[0m \u001b[38;5;66;03m#print (json_.keys())\u001b[39;00m\n\u001b[1;32m---> 29\u001b[0m \u001b[38;5;28;01mreturn\u001b[39;00m(\u001b[43mjson_\u001b[49m\u001b[43m[\u001b[49m\u001b[38;5;124;43m'\u001b[39;49m\u001b[38;5;124;43marticles\u001b[39;49m\u001b[38;5;124;43m'\u001b[39;49m\u001b[43m]\u001b[49m)\n",
      "\u001b[1;31mKeyError\u001b[0m: 'articles'"
     ]
    }
   ],
   "source": [
    "nested_responses_democrat = []\n",
    "\n",
    "for page in range(1,7):\n",
    "    page_contents = page_turner(page,'democrat+climate')\n",
    "    nested_responses_democrat.append(page_contents)"
   ]
  },
  {
   "cell_type": "code",
   "execution_count": 31,
   "id": "8917cb1a",
   "metadata": {
    "collapsed": true
   },
   "outputs": [
    {
     "ename": "KeyError",
     "evalue": "'articles'",
     "output_type": "error",
     "traceback": [
      "\u001b[1;31m---------------------------------------------------------------------------\u001b[0m",
      "\u001b[1;31mKeyError\u001b[0m                                  Traceback (most recent call last)",
      "Cell \u001b[1;32mIn[31], line 4\u001b[0m\n\u001b[0;32m      1\u001b[0m nested_responses_republican \u001b[38;5;241m=\u001b[39m []\n\u001b[0;32m      3\u001b[0m \u001b[38;5;28;01mfor\u001b[39;00m page \u001b[38;5;129;01min\u001b[39;00m \u001b[38;5;28mrange\u001b[39m(\u001b[38;5;241m1\u001b[39m,\u001b[38;5;241m17\u001b[39m):\n\u001b[1;32m----> 4\u001b[0m     page_contents \u001b[38;5;241m=\u001b[39m \u001b[43mpage_turner\u001b[49m\u001b[43m(\u001b[49m\u001b[43mpage\u001b[49m\u001b[43m,\u001b[49m\u001b[38;5;124;43m'\u001b[39;49m\u001b[38;5;124;43mrepublican+climate\u001b[39;49m\u001b[38;5;124;43m'\u001b[39;49m\u001b[43m)\u001b[49m\n\u001b[0;32m      5\u001b[0m     nested_responses_republican\u001b[38;5;241m.\u001b[39mappend(page_contents)\n",
      "Cell \u001b[1;32mIn[13], line 29\u001b[0m, in \u001b[0;36mpage_turner\u001b[1;34m(page_number, keyword)\u001b[0m\n\u001b[0;32m     27\u001b[0m json_ \u001b[38;5;241m=\u001b[39m response\u001b[38;5;241m.\u001b[39mjson()\n\u001b[0;32m     28\u001b[0m \u001b[38;5;66;03m#print (json_.keys())\u001b[39;00m\n\u001b[1;32m---> 29\u001b[0m \u001b[38;5;28;01mreturn\u001b[39;00m(\u001b[43mjson_\u001b[49m\u001b[43m[\u001b[49m\u001b[38;5;124;43m'\u001b[39;49m\u001b[38;5;124;43marticles\u001b[39;49m\u001b[38;5;124;43m'\u001b[39;49m\u001b[43m]\u001b[49m)\n",
      "\u001b[1;31mKeyError\u001b[0m: 'articles'"
     ]
    }
   ],
   "source": [
    "nested_responses_republican = []\n",
    "\n",
    "for page in range(1,17):\n",
    "    page_contents = page_turner(page,'republican+climate')\n",
    "    nested_responses_republican.append(page_contents)"
   ]
  },
  {
   "cell_type": "code",
   "execution_count": 32,
   "id": "305dd0a6",
   "metadata": {},
   "outputs": [
    {
     "data": {
      "text/plain": [
       "5"
      ]
     },
     "execution_count": 32,
     "metadata": {},
     "output_type": "execute_result"
    }
   ],
   "source": [
    "len(nested_responses_republican)"
   ]
  },
  {
   "cell_type": "markdown",
   "id": "ea7abe6a",
   "metadata": {},
   "source": [
    "### 🦅 2.2 Congress.Gov API \n",
    "\n",
    "The purpose of collecting data from this API is to understand how different political sides have represented + instutionalized their view about climate change.\n",
    "\n",
    "[GitHub Documentation](https://github.com/LibraryOfCongress/api.congress.gov/)  \n",
    "[Using Congress Data Offsite](https://www.congress.gov/help/using-data-offsite)  \n",
    "[Congress API Endpoints](https://gpo.congress.gov/#/)  \n",
    "[Python Code Examples](https://github.com/LibraryOfCongress/api.congress.gov/tree/main/api_client/python)"
   ]
  },
  {
   "cell_type": "code",
   "execution_count": 2,
   "id": "3f18cb51",
   "metadata": {},
   "outputs": [],
   "source": [
    "api_key = 'XXX'"
   ]
  },
  {
   "cell_type": "code",
   "execution_count": 3,
   "id": "b9f6aa48",
   "metadata": {},
   "outputs": [],
   "source": [
    "base_url = 'https://api.congress.gov/v3/bill?api_key=te7ilzFKEeAOrjfEalH5mrtFU0Dw35E6B70Nfhnn'\n",
    "\n",
    "url_post = {\n",
    "            'format':'json', # specifying the response format\n",
    "            'offset':0, ## specifying the start of the records returned,\n",
    "            'limit':10 ## specifying the number of records returned\n",
    "            }\n",
    "\n",
    "## For government APIs, it's generally good practice to provide some sort of user agent!\n",
    "user_agent = {'user-agent': 'University of Colorado at Boulder, natalie.castro@colorado.edu'}"
   ]
  },
  {
   "cell_type": "code",
   "execution_count": 132,
   "id": "326206f6",
   "metadata": {},
   "outputs": [],
   "source": [
    "''' TEST 2'''\n",
    "test2_response = requests.get(base_url,url_post,headers=user_agent)"
   ]
  },
  {
   "cell_type": "code",
   "execution_count": 133,
   "id": "d4a490ca",
   "metadata": {},
   "outputs": [
    {
     "data": {
      "text/plain": [
       "<Response [200]>"
      ]
     },
     "execution_count": 133,
     "metadata": {},
     "output_type": "execute_result"
    }
   ],
   "source": [
    "test2_response"
   ]
  },
  {
   "cell_type": "markdown",
   "id": "9a96a0a2",
   "metadata": {},
   "source": [
    "### 2.2.1 Collecting Bill Numbers\n",
    "\n",
    "To do so, I will be changing the URL for a few different parameters and scraping the congress site. The filters generated are: legislation any status of legislation, and environmental protection policy area.\n",
    "\n",
    "The URL for the bill search (as of 1/28/2025) is:https://www.congress.gov/search?q=%7B%22congress%22%3A%22all%22%2C%22source%22%3A%22all%22%2C%22bill-status%22%3A%22all%22%2C%22subject%22%3A%22Environmental+Protection%22%7D\n",
    "\n",
    "A CSV was downloaded with the bill numbers with a total of 8,056 bills. The original downloaded CSV comes with three 'metadata' lines, these were consisted of the date collected, and the URL, which I have listed here. The three lines were deleted to read them in using Pandas."
   ]
  },
  {
   "cell_type": "code",
   "execution_count": 7,
   "id": "0b74e52f",
   "metadata": {},
   "outputs": [],
   "source": [
    "bill_information1 = pd.read_csv(r\"C:\\Users\\natal\\OneDrive\\university\\info 5653\\data\\epa_bills_119_113.csv\",encoding='utf-8')\n",
    "bill_information2 = pd.read_csv(r\"C:\\Users\\natal\\OneDrive\\university\\info 5653\\data\\epa_bills_112_103.csv\",encoding='utf-8')\n",
    "bill_information3 = pd.read_csv(r\"C:\\Users\\natal\\OneDrive\\university\\info 5653\\data\\epa_bills_102_95.csv\",encoding='utf-8')\n",
    "bill_information4 = pd.read_csv(r\"C:\\Users\\natal\\OneDrive\\university\\info 5653\\data\\epa_bills_94_93.csv\",encoding='utf-8')\n",
    "\n",
    "bill_information = pd.concat([bill_information1,bill_information2,bill_information3,bill_information4])"
   ]
  },
  {
   "cell_type": "code",
   "execution_count": 8,
   "id": "e72cc511",
   "metadata": {},
   "outputs": [
    {
     "data": {
      "text/html": [
       "<div>\n",
       "<style scoped>\n",
       "    .dataframe tbody tr th:only-of-type {\n",
       "        vertical-align: middle;\n",
       "    }\n",
       "\n",
       "    .dataframe tbody tr th {\n",
       "        vertical-align: top;\n",
       "    }\n",
       "\n",
       "    .dataframe thead th {\n",
       "        text-align: right;\n",
       "    }\n",
       "</style>\n",
       "<table border=\"1\" class=\"dataframe\">\n",
       "  <thead>\n",
       "    <tr style=\"text-align: right;\">\n",
       "      <th></th>\n",
       "      <th>Legislation Number</th>\n",
       "      <th>URL</th>\n",
       "      <th>Congress</th>\n",
       "      <th>Title</th>\n",
       "      <th>Sponsor</th>\n",
       "      <th>Date of Introduction</th>\n",
       "      <th>Committees</th>\n",
       "      <th>Latest Action</th>\n",
       "      <th>Latest Action Date</th>\n",
       "      <th>Number of Cosponsors</th>\n",
       "      <th>Amends Bill</th>\n",
       "      <th>Date Offered</th>\n",
       "      <th>Date Submitted</th>\n",
       "      <th>Date Proposed</th>\n",
       "      <th>Amends Amendment</th>\n",
       "    </tr>\n",
       "  </thead>\n",
       "  <tbody>\n",
       "    <tr>\n",
       "      <th>0</th>\n",
       "      <td>H.R. 375</td>\n",
       "      <td>https://www.congress.gov/bill/119th-congress/h...</td>\n",
       "      <td>119th Congress (2025-2026)</td>\n",
       "      <td>Continued Rapid Ohia Death Response Act of 2025</td>\n",
       "      <td>Tokuda, Jill N. [Rep.-D-HI-2] (Introduced 01/1...</td>\n",
       "      <td>1/13/2025</td>\n",
       "      <td>House - Natural Resources, Agriculture | Senat...</td>\n",
       "      <td>Received in the Senate and Read twice and refe...</td>\n",
       "      <td>1/24/2025</td>\n",
       "      <td>1</td>\n",
       "      <td>NaN</td>\n",
       "      <td>NaN</td>\n",
       "      <td>NaN</td>\n",
       "      <td>NaN</td>\n",
       "      <td>NaN</td>\n",
       "    </tr>\n",
       "    <tr>\n",
       "      <th>1</th>\n",
       "      <td>H.R. 349</td>\n",
       "      <td>https://www.congress.gov/bill/119th-congress/h...</td>\n",
       "      <td>119th Congress (2025-2026)</td>\n",
       "      <td>Goldie’s Act</td>\n",
       "      <td>Malliotakis, Nicole [Rep.-R-NY-11] (Introduced...</td>\n",
       "      <td>1/13/2025</td>\n",
       "      <td>House - Agriculture</td>\n",
       "      <td>Referred to the House Committee on Agriculture.</td>\n",
       "      <td>1/13/2025</td>\n",
       "      <td>6</td>\n",
       "      <td>NaN</td>\n",
       "      <td>NaN</td>\n",
       "      <td>NaN</td>\n",
       "      <td>NaN</td>\n",
       "      <td>NaN</td>\n",
       "    </tr>\n",
       "    <tr>\n",
       "      <th>2</th>\n",
       "      <td>H.R. 313</td>\n",
       "      <td>https://www.congress.gov/bill/119th-congress/h...</td>\n",
       "      <td>119th Congress (2025-2026)</td>\n",
       "      <td>Natural Gas Tax Repeal Act</td>\n",
       "      <td>Pfluger, August [Rep.-R-TX-11] (Introduced 01/...</td>\n",
       "      <td>1/9/2025</td>\n",
       "      <td>House - Energy and Commerce</td>\n",
       "      <td>Referred to the House Committee on Energy and ...</td>\n",
       "      <td>1/9/2025</td>\n",
       "      <td>4</td>\n",
       "      <td>NaN</td>\n",
       "      <td>NaN</td>\n",
       "      <td>NaN</td>\n",
       "      <td>NaN</td>\n",
       "      <td>NaN</td>\n",
       "    </tr>\n",
       "    <tr>\n",
       "      <th>3</th>\n",
       "      <td>H.R. 288</td>\n",
       "      <td>https://www.congress.gov/bill/119th-congress/h...</td>\n",
       "      <td>119th Congress (2025-2026)</td>\n",
       "      <td>Long Island Sound Restoration and Stewardship ...</td>\n",
       "      <td>LaLota, Nick [Rep.-R-NY-1] (Introduced 01/09/2...</td>\n",
       "      <td>1/9/2025</td>\n",
       "      <td>House - Transportation and Infrastructure, Nat...</td>\n",
       "      <td>Referred to the Subcommittee on Water Resource...</td>\n",
       "      <td>1/10/2025</td>\n",
       "      <td>4</td>\n",
       "      <td>NaN</td>\n",
       "      <td>NaN</td>\n",
       "      <td>NaN</td>\n",
       "      <td>NaN</td>\n",
       "      <td>NaN</td>\n",
       "    </tr>\n",
       "    <tr>\n",
       "      <th>4</th>\n",
       "      <td>H.R. 284</td>\n",
       "      <td>https://www.congress.gov/bill/119th-congress/h...</td>\n",
       "      <td>119th Congress (2025-2026)</td>\n",
       "      <td>GLRI Act of 2025</td>\n",
       "      <td>Joyce, David P. [Rep.-R-OH-14] (Introduced 01/...</td>\n",
       "      <td>1/9/2025</td>\n",
       "      <td>House - Transportation and Infrastructure</td>\n",
       "      <td>Referred to the Subcommittee on Water Resource...</td>\n",
       "      <td>1/10/2025</td>\n",
       "      <td>28</td>\n",
       "      <td>NaN</td>\n",
       "      <td>NaN</td>\n",
       "      <td>NaN</td>\n",
       "      <td>NaN</td>\n",
       "      <td>NaN</td>\n",
       "    </tr>\n",
       "  </tbody>\n",
       "</table>\n",
       "</div>"
      ],
      "text/plain": [
       "  Legislation Number                                                URL  \\\n",
       "0           H.R. 375  https://www.congress.gov/bill/119th-congress/h...   \n",
       "1           H.R. 349  https://www.congress.gov/bill/119th-congress/h...   \n",
       "2           H.R. 313  https://www.congress.gov/bill/119th-congress/h...   \n",
       "3           H.R. 288  https://www.congress.gov/bill/119th-congress/h...   \n",
       "4           H.R. 284  https://www.congress.gov/bill/119th-congress/h...   \n",
       "\n",
       "                     Congress  \\\n",
       "0  119th Congress (2025-2026)   \n",
       "1  119th Congress (2025-2026)   \n",
       "2  119th Congress (2025-2026)   \n",
       "3  119th Congress (2025-2026)   \n",
       "4  119th Congress (2025-2026)   \n",
       "\n",
       "                                               Title  \\\n",
       "0    Continued Rapid Ohia Death Response Act of 2025   \n",
       "1                                       Goldie’s Act   \n",
       "2                         Natural Gas Tax Repeal Act   \n",
       "3  Long Island Sound Restoration and Stewardship ...   \n",
       "4                                   GLRI Act of 2025   \n",
       "\n",
       "                                             Sponsor Date of Introduction  \\\n",
       "0  Tokuda, Jill N. [Rep.-D-HI-2] (Introduced 01/1...            1/13/2025   \n",
       "1  Malliotakis, Nicole [Rep.-R-NY-11] (Introduced...            1/13/2025   \n",
       "2  Pfluger, August [Rep.-R-TX-11] (Introduced 01/...             1/9/2025   \n",
       "3  LaLota, Nick [Rep.-R-NY-1] (Introduced 01/09/2...             1/9/2025   \n",
       "4  Joyce, David P. [Rep.-R-OH-14] (Introduced 01/...             1/9/2025   \n",
       "\n",
       "                                          Committees  \\\n",
       "0  House - Natural Resources, Agriculture | Senat...   \n",
       "1                                House - Agriculture   \n",
       "2                        House - Energy and Commerce   \n",
       "3  House - Transportation and Infrastructure, Nat...   \n",
       "4          House - Transportation and Infrastructure   \n",
       "\n",
       "                                       Latest Action Latest Action Date  \\\n",
       "0  Received in the Senate and Read twice and refe...          1/24/2025   \n",
       "1    Referred to the House Committee on Agriculture.          1/13/2025   \n",
       "2  Referred to the House Committee on Energy and ...           1/9/2025   \n",
       "3  Referred to the Subcommittee on Water Resource...          1/10/2025   \n",
       "4  Referred to the Subcommittee on Water Resource...          1/10/2025   \n",
       "\n",
       "   Number of Cosponsors  Amends Bill  Date Offered  Date Submitted  \\\n",
       "0                     1          NaN           NaN             NaN   \n",
       "1                     6          NaN           NaN             NaN   \n",
       "2                     4          NaN           NaN             NaN   \n",
       "3                     4          NaN           NaN             NaN   \n",
       "4                    28          NaN           NaN             NaN   \n",
       "\n",
       "   Date Proposed  Amends Amendment  \n",
       "0            NaN               NaN  \n",
       "1            NaN               NaN  \n",
       "2            NaN               NaN  \n",
       "3            NaN               NaN  \n",
       "4            NaN               NaN  "
      ]
     },
     "execution_count": 8,
     "metadata": {},
     "output_type": "execute_result"
    }
   ],
   "source": [
    "bill_information.head()"
   ]
  },
  {
   "cell_type": "code",
   "execution_count": 10,
   "id": "96280770",
   "metadata": {},
   "outputs": [],
   "source": [
    "''' CREATING CONGRESS TITLES '''\n",
    "def congress_finder(current_congress): \n",
    "    ## looking for, but not including the th or st\n",
    "    regex_pattern = '[0-9]{2,3}(?!=[a-z]{2})'\n",
    "    congress_match = re.findall(regex_pattern,current_congress)\n",
    "    \n",
    "    congress_num = int(congress_match[0])\n",
    "    \n",
    "    return(congress_num)"
   ]
  },
  {
   "cell_type": "code",
   "execution_count": 11,
   "id": "5f76d675",
   "metadata": {},
   "outputs": [],
   "source": [
    "bill_information['Congress Number'] = bill_information['Congress'].apply(lambda x: congress_finder(x))"
   ]
  },
  {
   "cell_type": "code",
   "execution_count": null,
   "id": "87aa079e",
   "metadata": {},
   "outputs": [],
   "source": [
    "''' CREATING A COLUMN FOR BILL TYPE:\n",
    "\n",
    "The structure of all of the legislation numbers is [BILL TYPE]_[BILL NUMBER]. I will be using\n",
    "Regex to extract and separate these columns\n",
    "'''"
   ]
  },
  {
   "cell_type": "code",
   "execution_count": 12,
   "id": "100595e7",
   "metadata": {},
   "outputs": [],
   "source": [
    "''' BILL TYPE CLEANER: This function is used in a lambda apply down the rows to create the \n",
    "                        bill types needed for the congress.gov API\n",
    "\n",
    "'''\n",
    "\n",
    "bt_pattern = r'[A-Za-z]+\\.*'\n",
    "def bill_type_cleaner(bt):\n",
    "    matches = re.findall(bt_pattern,bt)\n",
    "    type_dirty = ''.join(matches)\n",
    "    type_text = re.sub(\"\\.\",\"\",type_dirty)\n",
    "    type_clean = type_text.lower()\n",
    "    return (type_clean)"
   ]
  },
  {
   "cell_type": "code",
   "execution_count": 13,
   "id": "8e7b9d08",
   "metadata": {},
   "outputs": [],
   "source": [
    "bill_information['Bill Type'] = bill_information['Legislation Number'].apply(lambda x: bill_type_cleaner(x))"
   ]
  },
  {
   "cell_type": "code",
   "execution_count": 14,
   "id": "ce050e7f",
   "metadata": {},
   "outputs": [],
   "source": [
    "''' CREATING A COLUMN FOR BILL NUMBER '''\n",
    "bt_num_pattern = r'[^A-Za-z\\.]'\n",
    "def bill_num_cleaner(bt):\n",
    "    matches = re.findall(bt_num_pattern,bt)\n",
    "    type_dirty = ''.join(matches)\n",
    "    type_clean = type_dirty.lower().strip()\n",
    "    return (int(type_clean)) ## The API asks for an integer"
   ]
  },
  {
   "cell_type": "code",
   "execution_count": 15,
   "id": "c22620dc",
   "metadata": {},
   "outputs": [],
   "source": [
    "bill_information['Bill Number'] = bill_information['Legislation Number'].apply(lambda x: bill_num_cleaner(x))"
   ]
  },
  {
   "cell_type": "code",
   "execution_count": null,
   "id": "353355ef",
   "metadata": {},
   "outputs": [],
   "source": [
    "''' CREATING A COLUMN FOR SPONSOR AFFILIATION & CREATING A COLUMN FOR SPONSOR STATE ''' '''"
   ]
  },
  {
   "cell_type": "code",
   "execution_count": 16,
   "id": "efcbbef4",
   "metadata": {},
   "outputs": [],
   "source": [
    "affiliation_pattern = r'-[DRI]'\n",
    "state_pattern = r'-[A-Z]{2}'\n",
    "def affiliation_finder(sponsor):\n",
    "    ## For party affiliation\n",
    "    match = re.findall(affiliation_pattern,sponsor)\n",
    "    clean_affiliation = re.sub(\"-\",\"\",match[0])\n",
    "    \n",
    "    return (clean_affiliation)\n",
    "\n",
    "def state_finder(sponsor):\n",
    "    \n",
    "    ## For State affiliation\n",
    "    state_match = re.findall(state_pattern,sponsor)\n",
    "    clean_state = re.sub(\"-\",'',state_match[0])\n",
    "    return (clean_state)"
   ]
  },
  {
   "cell_type": "code",
   "execution_count": 17,
   "id": "650423b8",
   "metadata": {},
   "outputs": [],
   "source": [
    "bill_information['Sponser Affiliation'] = bill_information['Sponsor'].apply(lambda x: affiliation_finder(x))\n",
    "bill_information['Sponser State'] = bill_information['Sponsor'].apply(lambda x: state_finder(x))"
   ]
  },
  {
   "cell_type": "code",
   "execution_count": 18,
   "id": "898833b4",
   "metadata": {},
   "outputs": [
    {
     "data": {
      "text/html": [
       "<div>\n",
       "<style scoped>\n",
       "    .dataframe tbody tr th:only-of-type {\n",
       "        vertical-align: middle;\n",
       "    }\n",
       "\n",
       "    .dataframe tbody tr th {\n",
       "        vertical-align: top;\n",
       "    }\n",
       "\n",
       "    .dataframe thead th {\n",
       "        text-align: right;\n",
       "    }\n",
       "</style>\n",
       "<table border=\"1\" class=\"dataframe\">\n",
       "  <thead>\n",
       "    <tr style=\"text-align: right;\">\n",
       "      <th></th>\n",
       "      <th>Legislation Number</th>\n",
       "      <th>URL</th>\n",
       "      <th>Congress</th>\n",
       "      <th>Title</th>\n",
       "      <th>Sponsor</th>\n",
       "      <th>Date of Introduction</th>\n",
       "      <th>Committees</th>\n",
       "      <th>Latest Action</th>\n",
       "      <th>Latest Action Date</th>\n",
       "      <th>Number of Cosponsors</th>\n",
       "      <th>Amends Bill</th>\n",
       "      <th>Date Offered</th>\n",
       "      <th>Date Submitted</th>\n",
       "      <th>Date Proposed</th>\n",
       "      <th>Amends Amendment</th>\n",
       "      <th>Congress Number</th>\n",
       "      <th>Bill Type</th>\n",
       "      <th>Bill Number</th>\n",
       "      <th>Sponser Affiliation</th>\n",
       "      <th>Sponser State</th>\n",
       "    </tr>\n",
       "  </thead>\n",
       "  <tbody>\n",
       "    <tr>\n",
       "      <th>0</th>\n",
       "      <td>H.R. 375</td>\n",
       "      <td>https://www.congress.gov/bill/119th-congress/h...</td>\n",
       "      <td>119th Congress (2025-2026)</td>\n",
       "      <td>Continued Rapid Ohia Death Response Act of 2025</td>\n",
       "      <td>Tokuda, Jill N. [Rep.-D-HI-2] (Introduced 01/1...</td>\n",
       "      <td>1/13/2025</td>\n",
       "      <td>House - Natural Resources, Agriculture | Senat...</td>\n",
       "      <td>Received in the Senate and Read twice and refe...</td>\n",
       "      <td>1/24/2025</td>\n",
       "      <td>1</td>\n",
       "      <td>NaN</td>\n",
       "      <td>NaN</td>\n",
       "      <td>NaN</td>\n",
       "      <td>NaN</td>\n",
       "      <td>NaN</td>\n",
       "      <td>119</td>\n",
       "      <td>hr</td>\n",
       "      <td>375</td>\n",
       "      <td>D</td>\n",
       "      <td>HI</td>\n",
       "    </tr>\n",
       "    <tr>\n",
       "      <th>1</th>\n",
       "      <td>H.R. 349</td>\n",
       "      <td>https://www.congress.gov/bill/119th-congress/h...</td>\n",
       "      <td>119th Congress (2025-2026)</td>\n",
       "      <td>Goldie’s Act</td>\n",
       "      <td>Malliotakis, Nicole [Rep.-R-NY-11] (Introduced...</td>\n",
       "      <td>1/13/2025</td>\n",
       "      <td>House - Agriculture</td>\n",
       "      <td>Referred to the House Committee on Agriculture.</td>\n",
       "      <td>1/13/2025</td>\n",
       "      <td>6</td>\n",
       "      <td>NaN</td>\n",
       "      <td>NaN</td>\n",
       "      <td>NaN</td>\n",
       "      <td>NaN</td>\n",
       "      <td>NaN</td>\n",
       "      <td>119</td>\n",
       "      <td>hr</td>\n",
       "      <td>349</td>\n",
       "      <td>R</td>\n",
       "      <td>NY</td>\n",
       "    </tr>\n",
       "  </tbody>\n",
       "</table>\n",
       "</div>"
      ],
      "text/plain": [
       "  Legislation Number                                                URL  \\\n",
       "0           H.R. 375  https://www.congress.gov/bill/119th-congress/h...   \n",
       "1           H.R. 349  https://www.congress.gov/bill/119th-congress/h...   \n",
       "\n",
       "                     Congress  \\\n",
       "0  119th Congress (2025-2026)   \n",
       "1  119th Congress (2025-2026)   \n",
       "\n",
       "                                             Title  \\\n",
       "0  Continued Rapid Ohia Death Response Act of 2025   \n",
       "1                                     Goldie’s Act   \n",
       "\n",
       "                                             Sponsor Date of Introduction  \\\n",
       "0  Tokuda, Jill N. [Rep.-D-HI-2] (Introduced 01/1...            1/13/2025   \n",
       "1  Malliotakis, Nicole [Rep.-R-NY-11] (Introduced...            1/13/2025   \n",
       "\n",
       "                                          Committees  \\\n",
       "0  House - Natural Resources, Agriculture | Senat...   \n",
       "1                                House - Agriculture   \n",
       "\n",
       "                                       Latest Action Latest Action Date  \\\n",
       "0  Received in the Senate and Read twice and refe...          1/24/2025   \n",
       "1    Referred to the House Committee on Agriculture.          1/13/2025   \n",
       "\n",
       "   Number of Cosponsors  Amends Bill  Date Offered  Date Submitted  \\\n",
       "0                     1          NaN           NaN             NaN   \n",
       "1                     6          NaN           NaN             NaN   \n",
       "\n",
       "   Date Proposed  Amends Amendment  Congress Number Bill Type  Bill Number  \\\n",
       "0            NaN               NaN              119        hr          375   \n",
       "1            NaN               NaN              119        hr          349   \n",
       "\n",
       "  Sponser Affiliation Sponser State  \n",
       "0                   D            HI  \n",
       "1                   R            NY  "
      ]
     },
     "execution_count": 18,
     "metadata": {},
     "output_type": "execute_result"
    }
   ],
   "source": [
    "bill_information.head(2)"
   ]
  },
  {
   "cell_type": "code",
   "execution_count": 23,
   "id": "8c30c6f8",
   "metadata": {},
   "outputs": [],
   "source": [
    "bill_information.reset_index(inplace=True)\n",
    "bill_information.drop(columns='index',inplace=True)"
   ]
  },
  {
   "cell_type": "markdown",
   "id": "821291a9",
   "metadata": {},
   "source": [
    "### 2.2. Collecting Bill Text URLS to Scrape from the Congress API"
   ]
  },
  {
   "cell_type": "code",
   "execution_count": 19,
   "id": "fe1b427d",
   "metadata": {},
   "outputs": [],
   "source": [
    "''' BUILDING A FUNCTION FOR THE URLS '''\n",
    "def url_builder(congress,bill_type,bill_number):\n",
    "    base_url = \"https://api.congress.gov/v3/bill/\"\n",
    "    \n",
    "    request_url = \"\"\n",
    "    request_url = request_url + base_url + str(congress) + \"/\" + bill_type + \"/\" + str(bill_number) + '/text?api_key=te7ilzFKEeAOrjfEalH5mrtFU0Dw35E6B70Nfhnn'\n",
    "    \n",
    "    return (request_url)"
   ]
  },
  {
   "cell_type": "code",
   "execution_count": 20,
   "id": "dc735b4d",
   "metadata": {},
   "outputs": [],
   "source": [
    "user_agent = {'user-agent': 'University of Colorado at Boulder, natalie.castro@colorado.edu'}\n",
    "\n",
    "''' BUILDING A FUNCTION FOR THE API REQUESTS TO GATHER THE DATA '''\n",
    "def xml_link_collector(url):\n",
    "    ## Making a response with our URL\n",
    "    response = requests.get(url,headers=user_agent)\n",
    "    \n",
    "    ## Making sure the response was valid\n",
    "    try:\n",
    "        out = response.json()\n",
    "        collected_url = out['textVersions'][0]['formats'][2]['url'] ## This was determined through parsing the output for a test example\n",
    "        return (collected_url)\n",
    "    except:\n",
    "        print (f\"⚠️ uh oh! there was an error when using the API with this url:{url}\\n \")\n",
    "        return (\"NO URL FOUND\")"
   ]
  },
  {
   "cell_type": "code",
   "execution_count": 21,
   "id": "e1238449",
   "metadata": {},
   "outputs": [],
   "source": [
    "url = url_builder(119,'hjres',30)"
   ]
  },
  {
   "cell_type": "code",
   "execution_count": 22,
   "id": "9bb60d49",
   "metadata": {},
   "outputs": [
    {
     "data": {
      "text/plain": [
       "'https://www.congress.gov/119/bills/hjres30/BILLS-119hjres30ih.xml'"
      ]
     },
     "execution_count": 22,
     "metadata": {},
     "output_type": "execute_result"
    }
   ],
   "source": [
    "xml_link_collector(url)"
   ]
  },
  {
   "cell_type": "markdown",
   "id": "5049937d",
   "metadata": {},
   "source": [
    "### Collecting the Bill Information:\n",
    "\n",
    "This will take place in two parts, because the rate limit for the congress API is 5000 requests per hour"
   ]
  },
  {
   "cell_type": "code",
   "execution_count": null,
   "id": "08dc8569",
   "metadata": {},
   "outputs": [],
   "source": [
    "''' SCRAPING XMLS USING THE API -- [PART 1]'''\n",
    "\n",
    "url_list = []\n",
    "\n",
    "for row in range(0,len(bill_information[0:4998])):\n",
    "    congress = bill_information.at[row,'Congress Number']\n",
    "    bill_type = bill_information.at[row,'Bill Type']\n",
    "    bill_number = bill_information.at[row,'Bill Number']\n",
    "    \n",
    "    current_url = url_builder(congress,bill_type,bill_number)\n",
    "    \n",
    "    ## Making sure the API connection is well rested (ie - avoiding the rate limit)\n",
    "    if row % 100 == 0:\n",
    "        sleep (5)\n",
    "    \n",
    "    xml_found = xml_link_collector(current_url)\n",
    "    \n",
    "    url_list.append(xml_found)\n"
   ]
  },
  {
   "attachments": {
    "image.png": {
     "image/png": "[encoded data removed]"
    }
   },
   "cell_type": "markdown",
   "id": "4db30a76",
   "metadata": {},
   "source": [
    "The otuput from the above cell was removed because there was a lot of errors, and when converting to HTML I did not want to bog down the page! Here is what some of the errors looked like\n",
    "![image.png](attachment:image.png)"
   ]
  },
  {
   "cell_type": "code",
   "execution_count": 25,
   "id": "6592708a",
   "metadata": {},
   "outputs": [
    {
     "name": "stdout",
     "output_type": "stream",
     "text": [
      "4998\n"
     ]
    }
   ],
   "source": [
    "print (len(url_list))"
   ]
  },
  {
   "cell_type": "code",
   "execution_count": 35,
   "id": "18dc8cd9",
   "metadata": {},
   "outputs": [
    {
     "data": {
      "text/plain": [
       "'https://www.congress.gov/109/bills/s2920/BILLS-109s2920is.xml'"
      ]
     },
     "execution_count": 35,
     "metadata": {},
     "output_type": "execute_result"
    }
   ],
   "source": [
    "url_list[3249]"
   ]
  },
  {
   "cell_type": "code",
   "execution_count": 45,
   "id": "070b4e96",
   "metadata": {},
   "outputs": [],
   "source": [
    "url_list = url_list[:3250]"
   ]
  },
  {
   "cell_type": "code",
   "execution_count": 40,
   "id": "ff93b9fd",
   "metadata": {},
   "outputs": [
    {
     "data": {
      "text/plain": [
       "['https://www.congress.gov/109/bills/s2920/BILLS-109s2920is.xml']"
      ]
     },
     "execution_count": 40,
     "metadata": {},
     "output_type": "execute_result"
    }
   ],
   "source": [
    "url_list[3249:3250]"
   ]
  },
  {
   "cell_type": "code",
   "execution_count": 41,
   "id": "077a95ed",
   "metadata": {},
   "outputs": [],
   "source": [
    "saving_urls = pd.DataFrame(url_list)\n",
    "saving_urls.to_csv(\"Found URLs for Bills 0 - 3250.csv\")"
   ]
  },
  {
   "cell_type": "code",
   "execution_count": null,
   "id": "bd0dca6f",
   "metadata": {},
   "outputs": [],
   "source": [
    "''' SCRAPING XMLS USING THE API -- [PART 2] '''\n",
    "\n",
    "for row in range(3250,len(bill_information[3250:])):\n",
    "    congress = bill_information.at[row,'Congress Number']\n",
    "    bill_type = bill_information.at[row,'Bill Type']\n",
    "    bill_number = bill_information.at[row,'Bill Number']\n",
    "    \n",
    "    current_url = url_builder(congress,bill_type,bill_number)\n",
    "    \n",
    "    ## Making sure the API connection is well rested (ie - avoiding the rate limit)\n",
    "    if row % 100 == 0:\n",
    "        sleep (5)\n",
    "    \n",
    "    xml_found = xml_link_collector(current_url)\n",
    "    \n",
    "    url_list.append(xml_found)"
   ]
  },
  {
   "cell_type": "code",
   "execution_count": 47,
   "id": "43d1384f",
   "metadata": {},
   "outputs": [
    {
     "name": "stdout",
     "output_type": "stream",
     "text": [
      "The expected length of the URL list should be 8056.\n",
      "The actual length of the URL list is 4806.\n"
     ]
    }
   ],
   "source": [
    "## Testing that all went well...\n",
    "\n",
    "print (f\"The expected length of the URL list should be {len(bill_information)}.\\nThe actual length of the URL list is {len(url_list)}.\")"
   ]
  },
  {
   "cell_type": "markdown",
   "id": "8c69116c",
   "metadata": {},
   "source": [
    "#### Uh-Oh! I think a lot of the older bills do not have the ability to be called for API access\n",
    "\n",
    "To fix this, I am going to deconstruct the URLs and then only get the information on those Bills.\n",
    "\n",
    "At this stage, I am filtering to look for what Bills do have available URLs"
   ]
  },
  {
   "cell_type": "code",
   "execution_count": 153,
   "id": "fc81964f",
   "metadata": {},
   "outputs": [],
   "source": [
    "urls_raw = pd.DataFrame(url_list)\n",
    "urls_raw.rename(columns={0:\"URL\"},inplace=True)"
   ]
  },
  {
   "cell_type": "code",
   "execution_count": 139,
   "id": "47f9cef9",
   "metadata": {},
   "outputs": [],
   "source": [
    "congress_pattern = '(?<=/)[0-9]{2,3}'\n",
    "bt_pattern = '(?<=s/)[h,c,r,o,n,e,s,j,r]{1,7}'\n",
    "bill_num_pattern = '(?<=[a-z])\\d{1,4}(?!=\\/BILL)'"
   ]
  },
  {
   "cell_type": "code",
   "execution_count": 140,
   "id": "907d8cb7",
   "metadata": {},
   "outputs": [],
   "source": [
    "url_congress = []\n",
    "url_bt = []\n",
    "url_num = []\n",
    "\n",
    "for row in range(0,len(urls_raw)):\n",
    "    curr_url = urls_raw.at[row,'URL']\n",
    "    \n",
    "    congress = re.findall(congress_pattern,curr_url)\n",
    "    bill_type = re.findall(bt_pattern,curr_url)\n",
    "    bill_num = re.findall(bill_num_pattern,curr_url)\n",
    "    \n",
    "    if len(congress) > 0:\n",
    "        if len(bill_type) > 0:\n",
    "            if len(bill_num) > 0:\n",
    "                url_congress.append(int(congress[0]))\n",
    "                url_bt.append(bill_type[0])\n",
    "                url_num.append(int(bill_num[0]))\n",
    "                \n",
    "            else:\n",
    "                url_num.append('DROP')\n",
    "        else:\n",
    "            url_bt.append('DROP')\n",
    "    else:\n",
    "        url_congress.append('DROP')\n",
    "        url_bt.append('DROP')\n",
    "        url_num.append('DROP')\n",
    "    \n",
    "    "
   ]
  },
  {
   "cell_type": "code",
   "execution_count": 141,
   "id": "f40c5323",
   "metadata": {},
   "outputs": [],
   "source": [
    "urls_raw['Congress Number'] = url_congress\n",
    "urls_raw['Bill Type'] = url_bt\n",
    "urls_raw['Bill Number'] = url_num"
   ]
  },
  {
   "cell_type": "code",
   "execution_count": 142,
   "id": "486a0ed2",
   "metadata": {},
   "outputs": [],
   "source": [
    "## Cleaning the URLs\n",
    "urls_raw.drop_duplicates(inplace=True)"
   ]
  },
  {
   "cell_type": "code",
   "execution_count": 143,
   "id": "94bae38c",
   "metadata": {},
   "outputs": [
    {
     "name": "stderr",
     "output_type": "stream",
     "text": [
      "C:\\Users\\natal\\AppData\\Local\\Temp\\ipykernel_13272\\878941524.py:7: UserWarning: Boolean Series key will be reindexed to match DataFrame index.\n",
      "  urls_raw2 = urls_raw1[bt_condition]\n",
      "C:\\Users\\natal\\AppData\\Local\\Temp\\ipykernel_13272\\878941524.py:8: UserWarning: Boolean Series key will be reindexed to match DataFrame index.\n",
      "  urls_clean = urls_raw2[bn_condition]\n"
     ]
    }
   ],
   "source": [
    "## And dropping if there was any error in the regex find all\n",
    "congress_condition = urls_raw['Congress Number'] != 'DROP'\n",
    "bt_condition = urls_raw['Bill Type'] != 'DROP'\n",
    "bn_condition = urls_raw['Bill Number'] != 'DROP'\n",
    "\n",
    "urls_raw1 = urls_raw[congress_condition]\n",
    "urls_raw2 = urls_raw1[bt_condition]\n",
    "urls_clean = urls_raw2[bn_condition]"
   ]
  },
  {
   "cell_type": "code",
   "execution_count": 158,
   "id": "f39504d6",
   "metadata": {},
   "outputs": [],
   "source": [
    "## Now mergine back from the Bill Information\n",
    "\n",
    "bill_information_final = pd.merge(left=urls_clean,right=bill_information, on=['Congress Number','Bill Type','Bill Number'],validate='1:1')"
   ]
  },
  {
   "cell_type": "code",
   "execution_count": 159,
   "id": "e539d936",
   "metadata": {},
   "outputs": [
    {
     "data": {
      "text/plain": [
       "3262"
      ]
     },
     "execution_count": 159,
     "metadata": {},
     "output_type": "execute_result"
    }
   ],
   "source": [
    "len(bill_information_final)"
   ]
  },
  {
   "cell_type": "code",
   "execution_count": 161,
   "id": "3c704816",
   "metadata": {},
   "outputs": [],
   "source": [
    "## Now Saving the Supplemented DataFrame \n",
    "bill_information_final.to_csv(\"Bill Information Supplemented.csv\")"
   ]
  },
  {
   "cell_type": "code",
   "execution_count": 199,
   "id": "21f26c7e",
   "metadata": {},
   "outputs": [],
   "source": [
    "url_list = bill_information_final['API URL'].to_list()"
   ]
  },
  {
   "cell_type": "code",
   "execution_count": 164,
   "id": "ea35d54d",
   "metadata": {},
   "outputs": [
    {
     "data": {
      "text/html": [
       "<div>\n",
       "<style scoped>\n",
       "    .dataframe tbody tr th:only-of-type {\n",
       "        vertical-align: middle;\n",
       "    }\n",
       "\n",
       "    .dataframe tbody tr th {\n",
       "        vertical-align: top;\n",
       "    }\n",
       "\n",
       "    .dataframe thead th {\n",
       "        text-align: right;\n",
       "    }\n",
       "</style>\n",
       "<table border=\"1\" class=\"dataframe\">\n",
       "  <thead>\n",
       "    <tr style=\"text-align: right;\">\n",
       "      <th></th>\n",
       "      <th>API URL</th>\n",
       "      <th>Congress Number</th>\n",
       "      <th>Bill Type</th>\n",
       "      <th>Bill Number</th>\n",
       "      <th>Legislation Number</th>\n",
       "      <th>URL</th>\n",
       "      <th>Congress</th>\n",
       "      <th>Title</th>\n",
       "      <th>Sponsor</th>\n",
       "      <th>Date of Introduction</th>\n",
       "      <th>...</th>\n",
       "      <th>Latest Action</th>\n",
       "      <th>Latest Action Date</th>\n",
       "      <th>Number of Cosponsors</th>\n",
       "      <th>Amends Bill</th>\n",
       "      <th>Date Offered</th>\n",
       "      <th>Date Submitted</th>\n",
       "      <th>Date Proposed</th>\n",
       "      <th>Amends Amendment</th>\n",
       "      <th>Sponser Affiliation</th>\n",
       "      <th>Sponser State</th>\n",
       "    </tr>\n",
       "  </thead>\n",
       "  <tbody>\n",
       "    <tr>\n",
       "      <th>0</th>\n",
       "      <td>https://www.congress.gov/119/bills/hr375/BILLS...</td>\n",
       "      <td>119</td>\n",
       "      <td>hr</td>\n",
       "      <td>375</td>\n",
       "      <td>H.R. 375</td>\n",
       "      <td>https://www.congress.gov/bill/119th-congress/h...</td>\n",
       "      <td>119th Congress (2025-2026)</td>\n",
       "      <td>Continued Rapid Ohia Death Response Act of 2025</td>\n",
       "      <td>Tokuda, Jill N. [Rep.-D-HI-2] (Introduced 01/1...</td>\n",
       "      <td>1/13/2025</td>\n",
       "      <td>...</td>\n",
       "      <td>Received in the Senate and Read twice and refe...</td>\n",
       "      <td>1/24/2025</td>\n",
       "      <td>1</td>\n",
       "      <td>NaN</td>\n",
       "      <td>NaN</td>\n",
       "      <td>NaN</td>\n",
       "      <td>NaN</td>\n",
       "      <td>NaN</td>\n",
       "      <td>D</td>\n",
       "      <td>HI</td>\n",
       "    </tr>\n",
       "    <tr>\n",
       "      <th>1</th>\n",
       "      <td>https://www.congress.gov/119/bills/hr349/BILLS...</td>\n",
       "      <td>119</td>\n",
       "      <td>hr</td>\n",
       "      <td>349</td>\n",
       "      <td>H.R. 349</td>\n",
       "      <td>https://www.congress.gov/bill/119th-congress/h...</td>\n",
       "      <td>119th Congress (2025-2026)</td>\n",
       "      <td>Goldie’s Act</td>\n",
       "      <td>Malliotakis, Nicole [Rep.-R-NY-11] (Introduced...</td>\n",
       "      <td>1/13/2025</td>\n",
       "      <td>...</td>\n",
       "      <td>Referred to the House Committee on Agriculture.</td>\n",
       "      <td>1/13/2025</td>\n",
       "      <td>6</td>\n",
       "      <td>NaN</td>\n",
       "      <td>NaN</td>\n",
       "      <td>NaN</td>\n",
       "      <td>NaN</td>\n",
       "      <td>NaN</td>\n",
       "      <td>R</td>\n",
       "      <td>NY</td>\n",
       "    </tr>\n",
       "  </tbody>\n",
       "</table>\n",
       "<p>2 rows × 21 columns</p>\n",
       "</div>"
      ],
      "text/plain": [
       "                                             API URL Congress Number  \\\n",
       "0  https://www.congress.gov/119/bills/hr375/BILLS...             119   \n",
       "1  https://www.congress.gov/119/bills/hr349/BILLS...             119   \n",
       "\n",
       "  Bill Type Bill Number Legislation Number  \\\n",
       "0        hr         375           H.R. 375   \n",
       "1        hr         349           H.R. 349   \n",
       "\n",
       "                                                 URL  \\\n",
       "0  https://www.congress.gov/bill/119th-congress/h...   \n",
       "1  https://www.congress.gov/bill/119th-congress/h...   \n",
       "\n",
       "                     Congress  \\\n",
       "0  119th Congress (2025-2026)   \n",
       "1  119th Congress (2025-2026)   \n",
       "\n",
       "                                             Title  \\\n",
       "0  Continued Rapid Ohia Death Response Act of 2025   \n",
       "1                                     Goldie’s Act   \n",
       "\n",
       "                                             Sponsor Date of Introduction  \\\n",
       "0  Tokuda, Jill N. [Rep.-D-HI-2] (Introduced 01/1...            1/13/2025   \n",
       "1  Malliotakis, Nicole [Rep.-R-NY-11] (Introduced...            1/13/2025   \n",
       "\n",
       "   ...                                      Latest Action Latest Action Date  \\\n",
       "0  ...  Received in the Senate and Read twice and refe...          1/24/2025   \n",
       "1  ...    Referred to the House Committee on Agriculture.          1/13/2025   \n",
       "\n",
       "  Number of Cosponsors  Amends Bill  Date Offered  Date Submitted  \\\n",
       "0                    1          NaN           NaN             NaN   \n",
       "1                    6          NaN           NaN             NaN   \n",
       "\n",
       "   Date Proposed  Amends Amendment  Sponser Affiliation Sponser State  \n",
       "0            NaN               NaN                    D            HI  \n",
       "1            NaN               NaN                    R            NY  \n",
       "\n",
       "[2 rows x 21 columns]"
      ]
     },
     "execution_count": 164,
     "metadata": {},
     "output_type": "execute_result"
    }
   ],
   "source": [
    "bill_information_final.head(2)"
   ]
  },
  {
   "cell_type": "markdown",
   "id": "90afbc23",
   "metadata": {},
   "source": [
    "### 2.2.2 🕸️Scraping XML URLs\n",
    "\n",
    "To get the text for each bill, the XML URL will be scraped and appended to the dataframe we are working with."
   ]
  },
  {
   "cell_type": "code",
   "execution_count": 150,
   "id": "33e79714",
   "metadata": {},
   "outputs": [],
   "source": [
    "''' XML-PARSER:\n",
    "\n",
    "In the XML output, I am interested in the Bill Title and Text, although the title is already in the Bill Information,\n",
    "I just want to make sure everything is correct! This parser will take an input of an XML url, make the request, parse \n",
    "in the soup, and return the output as a title and text!\n",
    "\n",
    "No preprocessing will occur at this stage, and the raw text will just be appended as a column to the Bill Information. \n",
    "Later on, this will make it easier to generate the labels\n",
    "\n",
    "'''\n",
    "\n",
    "def xml_searcher(xml_url):\n",
    "    xml_output = requests.get(xml_url)\n",
    "    raw_xml = xml_output.text\n",
    "    \n",
    "    ## Using Beautiful Soup as a parser\n",
    "    xml_soup = BeautifulSoup(raw_xml,'xml')\n",
    "    \n",
    "    ## Parsing for the title\n",
    "    current_title = xml_soup.title\n",
    "    \n",
    "    ## Parsing for the text\n",
    "    current_text = xml_soup.text\n",
    "    \n",
    "    return (current_title,current_text)"
   ]
  },
  {
   "cell_type": "code",
   "execution_count": 165,
   "id": "f5ae6b5f",
   "metadata": {},
   "outputs": [],
   "source": [
    "test_title ,test_text = xml_searcher(url_list[400])"
   ]
  },
  {
   "cell_type": "code",
   "execution_count": 166,
   "id": "be6c4e8e",
   "metadata": {},
   "outputs": [
    {
     "data": {
      "text/plain": [
       "<dc:title>118 S2959 RS: Brownfields Reauthorization Act of 2023</dc:title>"
      ]
     },
     "execution_count": 166,
     "metadata": {},
     "output_type": "execute_result"
    }
   ],
   "source": [
    "test_title"
   ]
  },
  {
   "cell_type": "code",
   "execution_count": 167,
   "id": "1637c173",
   "metadata": {
    "scrolled": true
   },
   "outputs": [
    {
     "data": {
      "text/plain": [
       "'\\n\\n118 S2959 RS: Brownfields Reauthorization Act of 2023\\nU.S. Senate\\n2023-09-27\\ntext/xml\\nEN\\nPursuant to Title 17 Section 105 of the United States Code, this file is not subject to copyright protection and is in the public domain.\\n\\n\\n\\nIICalendar No. 214118th CONGRESS1st SessionS. 2959IN THE SENATE OF THE UNITED STATESSeptember 27 (legislative day, September 22), 2023Mr. Carper, from the Committee on Environment and Public Works, reported the following original bill; which was read twice and placed on the calendarA BILLTo amend the Comprehensive Environmental Response, Compensation, and Liability Act of 1980 to reauthorize brownfields revitalization funding, and for other purposes.1.Short titleThis Act may be cited as the Brownfields Reauthorization Act of 2023.2.Improving small and disadvantaged community access to grant opportunitiesSection 104(k) of the Comprehensive Environmental Response, Compensation, and Liability Act of 1980 (42 U.S.C. 9604(k)) is amended—(1)in paragraph (1)(I), by inserting or 501(c)(6) after section 501(c)(3);(2)in paragraph (5), by striking subparagraph (E);(3)in paragraph (6)(C), by striking clause (ix) and inserting the following:(ix)The extent to which the applicant has a plan—(I)to engage a diverse set of local groups and organizations that effectively represent the views of the local community that will be directly affected by the proposed brownfield project; and(II)to meaningfully involve the local community described in subclause (I) in making decisions relating to the proposed brownfield project.;(4)in paragraph (10)(B)(iii)—(A)by striking 20 percent and inserting 10 percent;(B)by inserting the eligible entity is located in a small community or disadvantaged area (as those terms are defined in section 128(a)(1)(B)(iv)) or after unless; and(C)by inserting , in which case the Administrator shall waive the matching share requirement under this clause before ; and; and(5)in paragraph (13), by striking 2019 through 2023 and inserting 2024 through 2029.3.Increasing grant amountsSection 104(k)(3)(A)(ii) of the Comprehensive Environmental Response, Compensation, and Liability Act of 1980 (42 U.S.C. 9604(k)(3)(A)(ii)) is amended by striking $500,000 and all that follows through the period at the end and inserting $1,000,000 for each site to be remediated..4.State response programsSection 128(a) of the Comprehensive Environmental Response, Compensation, and Liability Act of 1980 (42 U.S.C. 9628(a)) is amended—(1)in paragraph (1)(B)(i), by striking or enhance and inserting , enhance, or implement; and(2)by striking paragraph (3) and inserting the following:(3)Authorization of appropriationsThere are authorized to be appropriated to carry out this subsection—(A)$50,000,000 for fiscal year 2024;(B)$55,000,000 for fiscal year 2025;(C)$60,000,000 for fiscal year 2026;(D)$65,000,000 for fiscal year 2027;(E)$70,000,000 for fiscal year 2028; and(F)$75,000,000 for fiscal year 2029..5.Report to identify opportunities to streamline application process; updating guidance(a)ReportNot later than 1 year after the date of enactment of this Act, the Administrator of the Environmental Protection Agency (referred to in this section as the Administrator) shall submit to Congress a report that evaluates the application ranking criteria and approval process for grants and loans under section 104(k) of the Comprehensive Environmental Response, Compensation, and Liability Act of 1980 (42 U.S.C. 9604(k)), which shall include, with respect to those grants and loans—(1)an evaluation of the shortcomings in the existing application requirements that are a recurring source of confusion for potential recipients of those grants or loans;(2)an identification of the most common sources of point deductions on application reviews;(3)strategies to incentivize the submission of applications from small communities and disadvantaged areas (as those terms are defined in section 128(a)(1)(B)(iv) of that Act (42 U.S.C. 9628(a)(1)(B)(iv)); and(4)recommendations, if any, to Congress on suggested legislative changes to the ranking criteria that would achieve the goal of streamlining the application process for small communities and disadvantaged areas (as so defined).(b)Updating guidanceNot later than 1 year after the date of enactment of this Act, the Administrator shall update the guidance relating to the application ranking criteria and approval process for grants and loans under section 104(k) of the Comprehensive Environmental Response, Compensation, and Liability Act of 1980 (42 U.S.C. 9604(k)) to reduce the complexity of the application process while ensuring competitive integrity.6.Brownfield revitalization funding for Alaska Native tribesSection 104(k)(1) of the Comprehensive Environmental Response, Compensation, and Liability Act of 1980 (42 U.S.C. 9604(k)(1)) is amended—(1)in subparagraph (G), by striking other than in Alaska; and(2)by striking subparagraph (H) and inserting the following:(H)a Regional Corporation or a Village Corporation (as those terms are defined in section 3 of the Alaska Native Claims Settlement Act (43 U.S.C. 1602));.September 27 (legislative day, September 22), 2023Read twice and placed on the calendar'"
      ]
     },
     "execution_count": 167,
     "metadata": {},
     "output_type": "execute_result"
    }
   ],
   "source": [
    "test_text"
   ]
  },
  {
   "cell_type": "code",
   "execution_count": 203,
   "id": "63a0ac7e",
   "metadata": {},
   "outputs": [],
   "source": [
    "''' APPLYING THE XML PARSER '''\n",
    "title_list = []\n",
    "text_list = []\n",
    "\n",
    "for url in url_list:\n",
    "    try:\n",
    "        title ,text = xml_searcher( url)\n",
    "\n",
    "        title_list.append(title)\n",
    "        text_list.append(text)\n",
    "    except:\n",
    "        title_list.append(\"ERROR\")\n",
    "        text_list.append(\"ERROR\")"
   ]
  },
  {
   "cell_type": "code",
   "execution_count": 204,
   "id": "855e3598",
   "metadata": {},
   "outputs": [
    {
     "name": "stdout",
     "output_type": "stream",
     "text": [
      "3262\n",
      "3262\n"
     ]
    }
   ],
   "source": [
    "## Checking that everything went smoothly\n",
    "print (len(title_list))\n",
    "print (len(text_list))"
   ]
  },
  {
   "cell_type": "code",
   "execution_count": 205,
   "id": "c7fddc3f",
   "metadata": {},
   "outputs": [],
   "source": [
    "bill_information_final['Bill Title (XML)'] = title_list\n",
    "bill_information_final['Bill Text'] = text_list"
   ]
  },
  {
   "cell_type": "code",
   "execution_count": 214,
   "id": "80246d10",
   "metadata": {},
   "outputs": [],
   "source": [
    "## Saving just in case :)\n",
    "bill_information.to_csv(\"Bill Information Supplemented.csv\")"
   ]
  },
  {
   "cell_type": "markdown",
   "id": "5302e264",
   "metadata": {},
   "source": [
    "## 👷🏻‍♀️ 3. Data Structuring\n",
    "\n",
    "At this stage, the data will not be cleaned and will be done so in a subsequent notebook. The data is structured using the provided query from the API or webscrape and is not altered.\n",
    "\n",
    "### 3.1 News API\n",
    "\n",
    "#### 3.1.1 NewsAPI: Everything"
   ]
  },
  {
   "cell_type": "code",
   "execution_count": 24,
   "id": "ecd8927e",
   "metadata": {},
   "outputs": [],
   "source": [
    "''' DATAFRAME GENERATION - DEMOCRAT '''\n",
    "concatenate_democrats = []\n",
    "for dataset in nested_responses_democrat:\n",
    "    current_dataframe = pd.DataFrame(dataset)\n",
    "    concatenate_democrats.append(current_dataframe)"
   ]
  },
  {
   "cell_type": "code",
   "execution_count": 25,
   "id": "3ee36028",
   "metadata": {},
   "outputs": [],
   "source": [
    "democrat_articles = pd.concat(concatenate_democrats)"
   ]
  },
  {
   "cell_type": "code",
   "execution_count": 27,
   "id": "1518d424",
   "metadata": {},
   "outputs": [
    {
     "name": "stdout",
     "output_type": "stream",
     "text": [
      "444\n"
     ]
    }
   ],
   "source": [
    "print (len(democrat_articles))"
   ]
  },
  {
   "cell_type": "code",
   "execution_count": 26,
   "id": "71be879e",
   "metadata": {
    "scrolled": true
   },
   "outputs": [
    {
     "data": {
      "text/html": [
       "<div>\n",
       "<style scoped>\n",
       "    .dataframe tbody tr th:only-of-type {\n",
       "        vertical-align: middle;\n",
       "    }\n",
       "\n",
       "    .dataframe tbody tr th {\n",
       "        vertical-align: top;\n",
       "    }\n",
       "\n",
       "    .dataframe thead th {\n",
       "        text-align: right;\n",
       "    }\n",
       "</style>\n",
       "<table border=\"1\" class=\"dataframe\">\n",
       "  <thead>\n",
       "    <tr style=\"text-align: right;\">\n",
       "      <th></th>\n",
       "      <th>source</th>\n",
       "      <th>author</th>\n",
       "      <th>title</th>\n",
       "      <th>description</th>\n",
       "      <th>url</th>\n",
       "      <th>urlToImage</th>\n",
       "      <th>publishedAt</th>\n",
       "      <th>content</th>\n",
       "    </tr>\n",
       "  </thead>\n",
       "  <tbody>\n",
       "    <tr>\n",
       "      <th>0</th>\n",
       "      <td>{'id': None, 'name': 'CNET'}</td>\n",
       "      <td>Katie Collins</td>\n",
       "      <td>For Progress on Climate and Energy in 2025, Th...</td>\n",
       "      <td>As Trump and his anti-science agenda head for ...</td>\n",
       "      <td>https://www.cnet.com/home/energy-and-utilities...</td>\n",
       "      <td>https://www.cnet.com/a/img/resize/5fa89cffd3d5...</td>\n",
       "      <td>2025-01-03T13:00:00Z</td>\n",
       "      <td>With its sprawling canopy of magnolia, dogwood...</td>\n",
       "    </tr>\n",
       "    <tr>\n",
       "      <th>1</th>\n",
       "      <td>{'id': 'time', 'name': 'Time'}</td>\n",
       "      <td>Will Weissert and Chris Megerian / AP</td>\n",
       "      <td>Trump to Visit Disaster-Stricken California an...</td>\n",
       "      <td>President Trump is heading to hurricane-batter...</td>\n",
       "      <td>https://time.com/7209700/trump-los-angeles-wil...</td>\n",
       "      <td>https://api.time.com/wp-content/uploads/2025/0...</td>\n",
       "      <td>2025-01-24T06:30:00Z</td>\n",
       "      <td>WASHINGTON President Donald Trump is heading t...</td>\n",
       "    </tr>\n",
       "  </tbody>\n",
       "</table>\n",
       "</div>"
      ],
      "text/plain": [
       "                           source                                 author  \\\n",
       "0    {'id': None, 'name': 'CNET'}                          Katie Collins   \n",
       "1  {'id': 'time', 'name': 'Time'}  Will Weissert and Chris Megerian / AP   \n",
       "\n",
       "                                               title  \\\n",
       "0  For Progress on Climate and Energy in 2025, Th...   \n",
       "1  Trump to Visit Disaster-Stricken California an...   \n",
       "\n",
       "                                         description  \\\n",
       "0  As Trump and his anti-science agenda head for ...   \n",
       "1  President Trump is heading to hurricane-batter...   \n",
       "\n",
       "                                                 url  \\\n",
       "0  https://www.cnet.com/home/energy-and-utilities...   \n",
       "1  https://time.com/7209700/trump-los-angeles-wil...   \n",
       "\n",
       "                                          urlToImage           publishedAt  \\\n",
       "0  https://www.cnet.com/a/img/resize/5fa89cffd3d5...  2025-01-03T13:00:00Z   \n",
       "1  https://api.time.com/wp-content/uploads/2025/0...  2025-01-24T06:30:00Z   \n",
       "\n",
       "                                             content  \n",
       "0  With its sprawling canopy of magnolia, dogwood...  \n",
       "1  WASHINGTON President Donald Trump is heading t...  "
      ]
     },
     "execution_count": 26,
     "metadata": {},
     "output_type": "execute_result"
    }
   ],
   "source": [
    "democrat_articles.head(2)"
   ]
  },
  {
   "cell_type": "code",
   "execution_count": 33,
   "id": "84b684fd",
   "metadata": {},
   "outputs": [
    {
     "data": {
      "text/html": [
       "<div>\n",
       "<style scoped>\n",
       "    .dataframe tbody tr th:only-of-type {\n",
       "        vertical-align: middle;\n",
       "    }\n",
       "\n",
       "    .dataframe tbody tr th {\n",
       "        vertical-align: top;\n",
       "    }\n",
       "\n",
       "    .dataframe thead th {\n",
       "        text-align: right;\n",
       "    }\n",
       "</style>\n",
       "<table border=\"1\" class=\"dataframe\">\n",
       "  <thead>\n",
       "    <tr style=\"text-align: right;\">\n",
       "      <th></th>\n",
       "      <th>source</th>\n",
       "      <th>author</th>\n",
       "      <th>title</th>\n",
       "      <th>description</th>\n",
       "      <th>url</th>\n",
       "      <th>urlToImage</th>\n",
       "      <th>publishedAt</th>\n",
       "      <th>content</th>\n",
       "    </tr>\n",
       "  </thead>\n",
       "  <tbody>\n",
       "    <tr>\n",
       "      <th>count</th>\n",
       "      <td>444</td>\n",
       "      <td>402</td>\n",
       "      <td>444</td>\n",
       "      <td>443</td>\n",
       "      <td>444</td>\n",
       "      <td>319</td>\n",
       "      <td>444</td>\n",
       "      <td>444</td>\n",
       "    </tr>\n",
       "    <tr>\n",
       "      <th>unique</th>\n",
       "      <td>119</td>\n",
       "      <td>285</td>\n",
       "      <td>421</td>\n",
       "      <td>429</td>\n",
       "      <td>444</td>\n",
       "      <td>315</td>\n",
       "      <td>424</td>\n",
       "      <td>441</td>\n",
       "    </tr>\n",
       "    <tr>\n",
       "      <th>top</th>\n",
       "      <td>{'id': None, 'name': 'Freerepublic.com'}</td>\n",
       "      <td>Breitbart</td>\n",
       "      <td>Democrat Sen. Markey: L.A. Fires Are ‘Climate ...</td>\n",
       "      <td>Democrat Massachusetts Sen. Ed Markey has clai...</td>\n",
       "      <td>https://www.cnet.com/home/energy-and-utilities...</td>\n",
       "      <td>https://static.dw.com/image/71400751_6.jpg</td>\n",
       "      <td>2025-01-25T05:00:00Z</td>\n",
       "      <td>In a confirmation hearing on Thursday, Democra...</td>\n",
       "    </tr>\n",
       "    <tr>\n",
       "      <th>freq</th>\n",
       "      <td>119</td>\n",
       "      <td>14</td>\n",
       "      <td>4</td>\n",
       "      <td>4</td>\n",
       "      <td>1</td>\n",
       "      <td>3</td>\n",
       "      <td>3</td>\n",
       "      <td>2</td>\n",
       "    </tr>\n",
       "  </tbody>\n",
       "</table>\n",
       "</div>"
      ],
      "text/plain": [
       "                                          source     author  \\\n",
       "count                                        444        402   \n",
       "unique                                       119        285   \n",
       "top     {'id': None, 'name': 'Freerepublic.com'}  Breitbart   \n",
       "freq                                         119         14   \n",
       "\n",
       "                                                    title  \\\n",
       "count                                                 444   \n",
       "unique                                                421   \n",
       "top     Democrat Sen. Markey: L.A. Fires Are ‘Climate ...   \n",
       "freq                                                    4   \n",
       "\n",
       "                                              description  \\\n",
       "count                                                 443   \n",
       "unique                                                429   \n",
       "top     Democrat Massachusetts Sen. Ed Markey has clai...   \n",
       "freq                                                    4   \n",
       "\n",
       "                                                      url  \\\n",
       "count                                                 444   \n",
       "unique                                                444   \n",
       "top     https://www.cnet.com/home/energy-and-utilities...   \n",
       "freq                                                    1   \n",
       "\n",
       "                                        urlToImage           publishedAt  \\\n",
       "count                                          319                   444   \n",
       "unique                                         315                   424   \n",
       "top     https://static.dw.com/image/71400751_6.jpg  2025-01-25T05:00:00Z   \n",
       "freq                                             3                     3   \n",
       "\n",
       "                                                  content  \n",
       "count                                                 444  \n",
       "unique                                                441  \n",
       "top     In a confirmation hearing on Thursday, Democra...  \n",
       "freq                                                    2  "
      ]
     },
     "execution_count": 33,
     "metadata": {},
     "output_type": "execute_result"
    }
   ],
   "source": [
    "democrat_articles.describe()"
   ]
  },
  {
   "cell_type": "code",
   "execution_count": 34,
   "id": "9e63e438",
   "metadata": {},
   "outputs": [],
   "source": [
    "''' DATAFRAME GENERATION - REPUBLICAN '''\n",
    "concatenate_republicans = []\n",
    "for dataset in nested_responses_republican:\n",
    "    current_dataframe = pd.DataFrame(dataset)\n",
    "    concatenate_republicans.append(current_dataframe)"
   ]
  },
  {
   "cell_type": "code",
   "execution_count": 37,
   "id": "75b4db8a",
   "metadata": {},
   "outputs": [],
   "source": [
    "republican_articles = pd.concat(concatenate_republicans)"
   ]
  },
  {
   "cell_type": "code",
   "execution_count": 38,
   "id": "3e773139",
   "metadata": {
    "scrolled": true
   },
   "outputs": [
    {
     "data": {
      "text/html": [
       "<div>\n",
       "<style scoped>\n",
       "    .dataframe tbody tr th:only-of-type {\n",
       "        vertical-align: middle;\n",
       "    }\n",
       "\n",
       "    .dataframe tbody tr th {\n",
       "        vertical-align: top;\n",
       "    }\n",
       "\n",
       "    .dataframe thead th {\n",
       "        text-align: right;\n",
       "    }\n",
       "</style>\n",
       "<table border=\"1\" class=\"dataframe\">\n",
       "  <thead>\n",
       "    <tr style=\"text-align: right;\">\n",
       "      <th></th>\n",
       "      <th>source</th>\n",
       "      <th>author</th>\n",
       "      <th>title</th>\n",
       "      <th>description</th>\n",
       "      <th>url</th>\n",
       "      <th>urlToImage</th>\n",
       "      <th>publishedAt</th>\n",
       "      <th>content</th>\n",
       "    </tr>\n",
       "  </thead>\n",
       "  <tbody>\n",
       "    <tr>\n",
       "      <th>0</th>\n",
       "      <td>{'id': 'the-verge', 'name': 'The Verge'}</td>\n",
       "      <td>Nilay Patel</td>\n",
       "      <td>Trump’s first 100 days: all the news impacting...</td>\n",
       "      <td>President Donald Trump is taking on TikTok, el...</td>\n",
       "      <td>https://www.theverge.com/24348851/donald-trump...</td>\n",
       "      <td>https://cdn.vox-cdn.com/thumbor/Nwo4_i4giY8lRM...</td>\n",
       "      <td>2025-01-22T14:30:00Z</td>\n",
       "      <td>Filed under:\\r\\nByLauren Feiner, a senior poli...</td>\n",
       "    </tr>\n",
       "    <tr>\n",
       "      <th>1</th>\n",
       "      <td>{'id': None, 'name': 'Gizmodo.com'}</td>\n",
       "      <td>Kate Yoder, Grist</td>\n",
       "      <td>The Quiet Death of Biden’s Climate Corps—and W...</td>\n",
       "      <td>Biden's green jobs program was never what it s...</td>\n",
       "      <td>https://gizmodo.com/the-quiet-death-of-bidens-...</td>\n",
       "      <td>https://gizmodo.com/app/uploads/2025/01/Americ...</td>\n",
       "      <td>2025-01-18T15:00:26Z</td>\n",
       "      <td>Giorgio Zampaglione loved his two-hour commute...</td>\n",
       "    </tr>\n",
       "  </tbody>\n",
       "</table>\n",
       "</div>"
      ],
      "text/plain": [
       "                                     source             author  \\\n",
       "0  {'id': 'the-verge', 'name': 'The Verge'}        Nilay Patel   \n",
       "1       {'id': None, 'name': 'Gizmodo.com'}  Kate Yoder, Grist   \n",
       "\n",
       "                                               title  \\\n",
       "0  Trump’s first 100 days: all the news impacting...   \n",
       "1  The Quiet Death of Biden’s Climate Corps—and W...   \n",
       "\n",
       "                                         description  \\\n",
       "0  President Donald Trump is taking on TikTok, el...   \n",
       "1  Biden's green jobs program was never what it s...   \n",
       "\n",
       "                                                 url  \\\n",
       "0  https://www.theverge.com/24348851/donald-trump...   \n",
       "1  https://gizmodo.com/the-quiet-death-of-bidens-...   \n",
       "\n",
       "                                          urlToImage           publishedAt  \\\n",
       "0  https://cdn.vox-cdn.com/thumbor/Nwo4_i4giY8lRM...  2025-01-22T14:30:00Z   \n",
       "1  https://gizmodo.com/app/uploads/2025/01/Americ...  2025-01-18T15:00:26Z   \n",
       "\n",
       "                                             content  \n",
       "0  Filed under:\\r\\nByLauren Feiner, a senior poli...  \n",
       "1  Giorgio Zampaglione loved his two-hour commute...  "
      ]
     },
     "execution_count": 38,
     "metadata": {},
     "output_type": "execute_result"
    }
   ],
   "source": [
    "republican_articles.head(2)"
   ]
  },
  {
   "cell_type": "code",
   "execution_count": 40,
   "id": "b6483c0a",
   "metadata": {},
   "outputs": [
    {
     "data": {
      "text/html": [
       "<div>\n",
       "<style scoped>\n",
       "    .dataframe tbody tr th:only-of-type {\n",
       "        vertical-align: middle;\n",
       "    }\n",
       "\n",
       "    .dataframe tbody tr th {\n",
       "        vertical-align: top;\n",
       "    }\n",
       "\n",
       "    .dataframe thead th {\n",
       "        text-align: right;\n",
       "    }\n",
       "</style>\n",
       "<table border=\"1\" class=\"dataframe\">\n",
       "  <thead>\n",
       "    <tr style=\"text-align: right;\">\n",
       "      <th></th>\n",
       "      <th>source</th>\n",
       "      <th>author</th>\n",
       "      <th>title</th>\n",
       "      <th>description</th>\n",
       "      <th>url</th>\n",
       "      <th>urlToImage</th>\n",
       "      <th>publishedAt</th>\n",
       "      <th>content</th>\n",
       "    </tr>\n",
       "  </thead>\n",
       "  <tbody>\n",
       "    <tr>\n",
       "      <th>count</th>\n",
       "      <td>376</td>\n",
       "      <td>350</td>\n",
       "      <td>376</td>\n",
       "      <td>376</td>\n",
       "      <td>376</td>\n",
       "      <td>373</td>\n",
       "      <td>376</td>\n",
       "      <td>376</td>\n",
       "    </tr>\n",
       "    <tr>\n",
       "      <th>unique</th>\n",
       "      <td>93</td>\n",
       "      <td>267</td>\n",
       "      <td>375</td>\n",
       "      <td>365</td>\n",
       "      <td>376</td>\n",
       "      <td>369</td>\n",
       "      <td>371</td>\n",
       "      <td>370</td>\n",
       "    </tr>\n",
       "    <tr>\n",
       "      <th>top</th>\n",
       "      <td>{'id': None, 'name': 'Forbes'}</td>\n",
       "      <td>ABC News</td>\n",
       "      <td>US to withdraw from Paris agreement, expand dr...</td>\n",
       "      <td>Organizations including Walmart, Lowe’s and Me...</td>\n",
       "      <td>https://www.theverge.com/24348851/donald-trump...</td>\n",
       "      <td>https://imageio.forbes.com/specials-images/ima...</td>\n",
       "      <td>2025-01-16T10:00:00Z</td>\n",
       "      <td>&lt;ul&gt;&lt;li&gt;Trump endorses House Speaker Mike John...</td>\n",
       "    </tr>\n",
       "    <tr>\n",
       "      <th>freq</th>\n",
       "      <td>29</td>\n",
       "      <td>18</td>\n",
       "      <td>2</td>\n",
       "      <td>3</td>\n",
       "      <td>1</td>\n",
       "      <td>3</td>\n",
       "      <td>2</td>\n",
       "      <td>4</td>\n",
       "    </tr>\n",
       "  </tbody>\n",
       "</table>\n",
       "</div>"
      ],
      "text/plain": [
       "                                source    author  \\\n",
       "count                              376       350   \n",
       "unique                              93       267   \n",
       "top     {'id': None, 'name': 'Forbes'}  ABC News   \n",
       "freq                                29        18   \n",
       "\n",
       "                                                    title  \\\n",
       "count                                                 376   \n",
       "unique                                                375   \n",
       "top     US to withdraw from Paris agreement, expand dr...   \n",
       "freq                                                    2   \n",
       "\n",
       "                                              description  \\\n",
       "count                                                 376   \n",
       "unique                                                365   \n",
       "top     Organizations including Walmart, Lowe’s and Me...   \n",
       "freq                                                    3   \n",
       "\n",
       "                                                      url  \\\n",
       "count                                                 376   \n",
       "unique                                                376   \n",
       "top     https://www.theverge.com/24348851/donald-trump...   \n",
       "freq                                                    1   \n",
       "\n",
       "                                               urlToImage  \\\n",
       "count                                                 373   \n",
       "unique                                                369   \n",
       "top     https://imageio.forbes.com/specials-images/ima...   \n",
       "freq                                                    3   \n",
       "\n",
       "                 publishedAt  \\\n",
       "count                    376   \n",
       "unique                   371   \n",
       "top     2025-01-16T10:00:00Z   \n",
       "freq                       2   \n",
       "\n",
       "                                                  content  \n",
       "count                                                 376  \n",
       "unique                                                370  \n",
       "top     <ul><li>Trump endorses House Speaker Mike John...  \n",
       "freq                                                    4  "
      ]
     },
     "execution_count": 40,
     "metadata": {},
     "output_type": "execute_result"
    }
   ],
   "source": [
    "republican_articles.describe()"
   ]
  },
  {
   "cell_type": "code",
   "execution_count": 41,
   "id": "7a5200b0",
   "metadata": {},
   "outputs": [],
   "source": [
    "''' DATA STORAGE\n",
    "\n",
    "This is saving all of the raw data (minimal structuring) to their respective CSV files.\n",
    "\n",
    "'''\n",
    "\n",
    "## Everything endpoint\n",
    "republican_articles.to_csv(\"NEWSAPI - republican climate articles raw.csv\")\n",
    "democrat_articles.to_csv(\"NEWSAPI - democrat climate articles raw.csv\")"
   ]
  },
  {
   "cell_type": "markdown",
   "id": "f5f72b8f",
   "metadata": {},
   "source": [
    "#### 3.1.2 NewsAPI sources\n",
    "\n",
    "The sources for each type will be removed from each headline with their authors. This is to better understand who is representing and providing narrative to each party."
   ]
  },
  {
   "cell_type": "code",
   "execution_count": 43,
   "id": "01454b4e",
   "metadata": {},
   "outputs": [],
   "source": [
    "democrat_sources = democrat_articles[['source','author']]\n",
    "republican_sources = republican_articles[['source','author']]"
   ]
  },
  {
   "cell_type": "code",
   "execution_count": 44,
   "id": "388651bc",
   "metadata": {},
   "outputs": [
    {
     "data": {
      "text/plain": [
       "444"
      ]
     },
     "execution_count": 44,
     "metadata": {},
     "output_type": "execute_result"
    }
   ],
   "source": [
    "len(democrat_sources)"
   ]
  },
  {
   "cell_type": "code",
   "execution_count": 45,
   "id": "cfcb003c",
   "metadata": {},
   "outputs": [
    {
     "data": {
      "text/html": [
       "<div>\n",
       "<style scoped>\n",
       "    .dataframe tbody tr th:only-of-type {\n",
       "        vertical-align: middle;\n",
       "    }\n",
       "\n",
       "    .dataframe tbody tr th {\n",
       "        vertical-align: top;\n",
       "    }\n",
       "\n",
       "    .dataframe thead th {\n",
       "        text-align: right;\n",
       "    }\n",
       "</style>\n",
       "<table border=\"1\" class=\"dataframe\">\n",
       "  <thead>\n",
       "    <tr style=\"text-align: right;\">\n",
       "      <th></th>\n",
       "      <th>source</th>\n",
       "      <th>author</th>\n",
       "    </tr>\n",
       "  </thead>\n",
       "  <tbody>\n",
       "    <tr>\n",
       "      <th>0</th>\n",
       "      <td>{'id': None, 'name': 'CNET'}</td>\n",
       "      <td>Katie Collins</td>\n",
       "    </tr>\n",
       "    <tr>\n",
       "      <th>1</th>\n",
       "      <td>{'id': 'time', 'name': 'Time'}</td>\n",
       "      <td>Will Weissert and Chris Megerian / AP</td>\n",
       "    </tr>\n",
       "  </tbody>\n",
       "</table>\n",
       "</div>"
      ],
      "text/plain": [
       "                           source                                 author\n",
       "0    {'id': None, 'name': 'CNET'}                          Katie Collins\n",
       "1  {'id': 'time', 'name': 'Time'}  Will Weissert and Chris Megerian / AP"
      ]
     },
     "execution_count": 45,
     "metadata": {},
     "output_type": "execute_result"
    }
   ],
   "source": [
    "democrat_sources.head(2)"
   ]
  },
  {
   "cell_type": "code",
   "execution_count": 46,
   "id": "7ab43881",
   "metadata": {},
   "outputs": [
    {
     "data": {
      "text/html": [
       "<div>\n",
       "<style scoped>\n",
       "    .dataframe tbody tr th:only-of-type {\n",
       "        vertical-align: middle;\n",
       "    }\n",
       "\n",
       "    .dataframe tbody tr th {\n",
       "        vertical-align: top;\n",
       "    }\n",
       "\n",
       "    .dataframe thead th {\n",
       "        text-align: right;\n",
       "    }\n",
       "</style>\n",
       "<table border=\"1\" class=\"dataframe\">\n",
       "  <thead>\n",
       "    <tr style=\"text-align: right;\">\n",
       "      <th></th>\n",
       "      <th>source</th>\n",
       "      <th>author</th>\n",
       "    </tr>\n",
       "  </thead>\n",
       "  <tbody>\n",
       "    <tr>\n",
       "      <th>0</th>\n",
       "      <td>{'id': 'the-verge', 'name': 'The Verge'}</td>\n",
       "      <td>Nilay Patel</td>\n",
       "    </tr>\n",
       "    <tr>\n",
       "      <th>1</th>\n",
       "      <td>{'id': None, 'name': 'Gizmodo.com'}</td>\n",
       "      <td>Kate Yoder, Grist</td>\n",
       "    </tr>\n",
       "  </tbody>\n",
       "</table>\n",
       "</div>"
      ],
      "text/plain": [
       "                                     source             author\n",
       "0  {'id': 'the-verge', 'name': 'The Verge'}        Nilay Patel\n",
       "1       {'id': None, 'name': 'Gizmodo.com'}  Kate Yoder, Grist"
      ]
     },
     "execution_count": 46,
     "metadata": {},
     "output_type": "execute_result"
    }
   ],
   "source": [
    "republican_sources.head(2)"
   ]
  },
  {
   "cell_type": "code",
   "execution_count": 47,
   "id": "f0fb3a44",
   "metadata": {},
   "outputs": [],
   "source": [
    "''' SOURCE CLEANER:\n",
    "\n",
    "    INPUT: a list of sources in a dictionary structure with the key 'name'\n",
    "    OUTPUT: two lists: the first contains the entire list of sources \n",
    "            cleaned, and the second is only the unique sources\n",
    "            \n",
    "    The purpose of this function is to clean the results from the everything\n",
    "    endpoint from the NewsAPI. The result will be a list (can be appened)\n",
    "    to a new dataframe to match the authors of clean sources. The second\n",
    "    return of the function is a unique list of sources\n",
    "\n",
    "'''\n",
    "\n",
    "\n",
    "def source_cleaner(source_list):\n",
    "    ## Creating a storage container for the cleaned sources\n",
    "    cleaned_sources = []\n",
    "    \n",
    "    ## Iterating through each source in the provided list\n",
    "    for source in source_list:\n",
    "        ## Obtaining the name + storing it\n",
    "        current_source = source['name']\n",
    "        \n",
    "        cleaned_sources.append(current_source)\n",
    "    \n",
    "    ## Finding the Unique Sources from the list\n",
    "    unique_sources = list(set(cleaned_sources))\n",
    "    \n",
    "    return (cleaned_sources,unique_sources)"
   ]
  },
  {
   "cell_type": "code",
   "execution_count": 48,
   "id": "a3cf1150",
   "metadata": {},
   "outputs": [],
   "source": [
    "dem_sources_full = democrat_sources['source'].to_list().copy()\n",
    "rep_sources_full = republican_sources['source'].to_list().copy()"
   ]
  },
  {
   "cell_type": "code",
   "execution_count": 49,
   "id": "4201eb67",
   "metadata": {},
   "outputs": [],
   "source": [
    "dem_cleaned_sources,dem_unique_sources = source_cleaner(dem_sources_full)\n",
    "rep_cleaned_sources,rep_unique_sources = source_cleaner(rep_sources_full)"
   ]
  },
  {
   "cell_type": "code",
   "execution_count": 50,
   "id": "21cc8610",
   "metadata": {
    "scrolled": true
   },
   "outputs": [
    {
     "name": "stderr",
     "output_type": "stream",
     "text": [
      "C:\\Users\\natal\\AppData\\Local\\Temp\\ipykernel_22124\\2483140677.py:1: SettingWithCopyWarning: \n",
      "A value is trying to be set on a copy of a slice from a DataFrame.\n",
      "Try using .loc[row_indexer,col_indexer] = value instead\n",
      "\n",
      "See the caveats in the documentation: https://pandas.pydata.org/pandas-docs/stable/user_guide/indexing.html#returning-a-view-versus-a-copy\n",
      "  democrat_sources['source'] = dem_cleaned_sources\n",
      "C:\\Users\\natal\\AppData\\Local\\Temp\\ipykernel_22124\\2483140677.py:2: SettingWithCopyWarning: \n",
      "A value is trying to be set on a copy of a slice from a DataFrame.\n",
      "Try using .loc[row_indexer,col_indexer] = value instead\n",
      "\n",
      "See the caveats in the documentation: https://pandas.pydata.org/pandas-docs/stable/user_guide/indexing.html#returning-a-view-versus-a-copy\n",
      "  republican_sources['source'] = rep_cleaned_sources\n"
     ]
    }
   ],
   "source": [
    "democrat_sources['source'] = dem_cleaned_sources\n",
    "republican_sources['source'] = rep_cleaned_sources"
   ]
  },
  {
   "cell_type": "code",
   "execution_count": 54,
   "id": "3cca2f0a",
   "metadata": {
    "scrolled": true
   },
   "outputs": [
    {
     "name": "stderr",
     "output_type": "stream",
     "text": [
      "C:\\Users\\natal\\AppData\\Local\\Temp\\ipykernel_22124\\654442435.py:5: SettingWithCopyWarning: \n",
      "A value is trying to be set on a copy of a slice from a DataFrame.\n",
      "Try using .loc[row_indexer,col_indexer] = value instead\n",
      "\n",
      "See the caveats in the documentation: https://pandas.pydata.org/pandas-docs/stable/user_guide/indexing.html#returning-a-view-versus-a-copy\n",
      "  democrat_sources['Party'] = dem_list\n",
      "C:\\Users\\natal\\AppData\\Local\\Temp\\ipykernel_22124\\654442435.py:11: SettingWithCopyWarning: \n",
      "A value is trying to be set on a copy of a slice from a DataFrame.\n",
      "Try using .loc[row_indexer,col_indexer] = value instead\n",
      "\n",
      "See the caveats in the documentation: https://pandas.pydata.org/pandas-docs/stable/user_guide/indexing.html#returning-a-view-versus-a-copy\n",
      "  republican_sources['Party'] = rep_list\n"
     ]
    }
   ],
   "source": [
    "dem_list = []\n",
    "for i in range(0,len(democrat_sources)):\n",
    "    dem_list.append(\"Democrat\")\n",
    "    \n",
    "democrat_sources['Party'] = dem_list\n",
    "\n",
    "rep_list = []\n",
    "for i in range(0,len(republican_sources)):\n",
    "    rep_list.append(\"Republican\")\n",
    "    \n",
    "republican_sources['Party'] = rep_list"
   ]
  },
  {
   "cell_type": "code",
   "execution_count": 60,
   "id": "482c4b1b",
   "metadata": {},
   "outputs": [
    {
     "name": "stderr",
     "output_type": "stream",
     "text": [
      "C:\\Users\\natal\\AppData\\Local\\Temp\\ipykernel_22124\\1565605381.py:1: SettingWithCopyWarning: \n",
      "A value is trying to be set on a copy of a slice from a DataFrame\n",
      "\n",
      "See the caveats in the documentation: https://pandas.pydata.org/pandas-docs/stable/user_guide/indexing.html#returning-a-view-versus-a-copy\n",
      "  democrat_sources.fillna('No Author',inplace=True)\n",
      "C:\\Users\\natal\\AppData\\Local\\Temp\\ipykernel_22124\\1565605381.py:2: SettingWithCopyWarning: \n",
      "A value is trying to be set on a copy of a slice from a DataFrame\n",
      "\n",
      "See the caveats in the documentation: https://pandas.pydata.org/pandas-docs/stable/user_guide/indexing.html#returning-a-view-versus-a-copy\n",
      "  republican_sources.fillna('No Author',inplace=True)\n"
     ]
    }
   ],
   "source": [
    "democrat_sources.fillna('No Author',inplace=True)\n",
    "republican_sources.fillna('No Author',inplace=True)"
   ]
  },
  {
   "cell_type": "code",
   "execution_count": 61,
   "id": "0ccd6009",
   "metadata": {},
   "outputs": [
    {
     "data": {
      "text/html": [
       "<div>\n",
       "<style scoped>\n",
       "    .dataframe tbody tr th:only-of-type {\n",
       "        vertical-align: middle;\n",
       "    }\n",
       "\n",
       "    .dataframe tbody tr th {\n",
       "        vertical-align: top;\n",
       "    }\n",
       "\n",
       "    .dataframe thead th {\n",
       "        text-align: right;\n",
       "    }\n",
       "</style>\n",
       "<table border=\"1\" class=\"dataframe\">\n",
       "  <thead>\n",
       "    <tr style=\"text-align: right;\">\n",
       "      <th></th>\n",
       "      <th>source</th>\n",
       "      <th>author</th>\n",
       "      <th>Party</th>\n",
       "    </tr>\n",
       "  </thead>\n",
       "  <tbody>\n",
       "    <tr>\n",
       "      <th>0</th>\n",
       "      <td>CNET</td>\n",
       "      <td>Katie Collins</td>\n",
       "      <td>Democrat</td>\n",
       "    </tr>\n",
       "    <tr>\n",
       "      <th>1</th>\n",
       "      <td>Time</td>\n",
       "      <td>Will Weissert and Chris Megerian / AP</td>\n",
       "      <td>Democrat</td>\n",
       "    </tr>\n",
       "    <tr>\n",
       "      <th>2</th>\n",
       "      <td>Politicopro.com</td>\n",
       "      <td>Blanca Begert, Camille von Kaenel, Thomas Fran...</td>\n",
       "      <td>Democrat</td>\n",
       "    </tr>\n",
       "    <tr>\n",
       "      <th>3</th>\n",
       "      <td>Scientific American</td>\n",
       "      <td>Tanya Lewis</td>\n",
       "      <td>Democrat</td>\n",
       "    </tr>\n",
       "    <tr>\n",
       "      <th>4</th>\n",
       "      <td>Vox</td>\n",
       "      <td>Benji Jones</td>\n",
       "      <td>Democrat</td>\n",
       "    </tr>\n",
       "    <tr>\n",
       "      <th>...</th>\n",
       "      <td>...</td>\n",
       "      <td>...</td>\n",
       "      <td>...</td>\n",
       "    </tr>\n",
       "    <tr>\n",
       "      <th>95</th>\n",
       "      <td>PBS</td>\n",
       "      <td>Will Weissert, Associated Press, Amelia Thomso...</td>\n",
       "      <td>Democrat</td>\n",
       "    </tr>\n",
       "    <tr>\n",
       "      <th>96</th>\n",
       "      <td>PBS</td>\n",
       "      <td>Michelle L. Price, Associated Press</td>\n",
       "      <td>Democrat</td>\n",
       "    </tr>\n",
       "    <tr>\n",
       "      <th>97</th>\n",
       "      <td>PBS</td>\n",
       "      <td>Bernard McGhee, Associated Press</td>\n",
       "      <td>Democrat</td>\n",
       "    </tr>\n",
       "    <tr>\n",
       "      <th>98</th>\n",
       "      <td>The Times of India</td>\n",
       "      <td>Navtej Sarna</td>\n",
       "      <td>Democrat</td>\n",
       "    </tr>\n",
       "    <tr>\n",
       "      <th>99</th>\n",
       "      <td>The Times of India</td>\n",
       "      <td>AP</td>\n",
       "      <td>Democrat</td>\n",
       "    </tr>\n",
       "  </tbody>\n",
       "</table>\n",
       "<p>444 rows × 3 columns</p>\n",
       "</div>"
      ],
      "text/plain": [
       "                 source                                             author  \\\n",
       "0                  CNET                                      Katie Collins   \n",
       "1                  Time              Will Weissert and Chris Megerian / AP   \n",
       "2       Politicopro.com  Blanca Begert, Camille von Kaenel, Thomas Fran...   \n",
       "3   Scientific American                                        Tanya Lewis   \n",
       "4                   Vox                                        Benji Jones   \n",
       "..                  ...                                                ...   \n",
       "95                  PBS  Will Weissert, Associated Press, Amelia Thomso...   \n",
       "96                  PBS                Michelle L. Price, Associated Press   \n",
       "97                  PBS                   Bernard McGhee, Associated Press   \n",
       "98   The Times of India                                       Navtej Sarna   \n",
       "99   The Times of India                                                 AP   \n",
       "\n",
       "       Party  \n",
       "0   Democrat  \n",
       "1   Democrat  \n",
       "2   Democrat  \n",
       "3   Democrat  \n",
       "4   Democrat  \n",
       "..       ...  \n",
       "95  Democrat  \n",
       "96  Democrat  \n",
       "97  Democrat  \n",
       "98  Democrat  \n",
       "99  Democrat  \n",
       "\n",
       "[444 rows x 3 columns]"
      ]
     },
     "execution_count": 61,
     "metadata": {},
     "output_type": "execute_result"
    }
   ],
   "source": [
    "democrat_sources"
   ]
  },
  {
   "cell_type": "code",
   "execution_count": 62,
   "id": "c60df248",
   "metadata": {
    "collapsed": true
   },
   "outputs": [
    {
     "data": {
      "text/html": [
       "<div>\n",
       "<style scoped>\n",
       "    .dataframe tbody tr th:only-of-type {\n",
       "        vertical-align: middle;\n",
       "    }\n",
       "\n",
       "    .dataframe tbody tr th {\n",
       "        vertical-align: top;\n",
       "    }\n",
       "\n",
       "    .dataframe thead th {\n",
       "        text-align: right;\n",
       "    }\n",
       "</style>\n",
       "<table border=\"1\" class=\"dataframe\">\n",
       "  <thead>\n",
       "    <tr style=\"text-align: right;\">\n",
       "      <th></th>\n",
       "      <th>source</th>\n",
       "      <th>author</th>\n",
       "      <th>Party</th>\n",
       "    </tr>\n",
       "  </thead>\n",
       "  <tbody>\n",
       "    <tr>\n",
       "      <th>0</th>\n",
       "      <td>The Verge</td>\n",
       "      <td>Nilay Patel</td>\n",
       "      <td>Republican</td>\n",
       "    </tr>\n",
       "    <tr>\n",
       "      <th>1</th>\n",
       "      <td>Gizmodo.com</td>\n",
       "      <td>Kate Yoder, Grist</td>\n",
       "      <td>Republican</td>\n",
       "    </tr>\n",
       "    <tr>\n",
       "      <th>2</th>\n",
       "      <td>BBC News</td>\n",
       "      <td>No Author</td>\n",
       "      <td>Republican</td>\n",
       "    </tr>\n",
       "    <tr>\n",
       "      <th>3</th>\n",
       "      <td>BBC News</td>\n",
       "      <td>No Author</td>\n",
       "      <td>Republican</td>\n",
       "    </tr>\n",
       "    <tr>\n",
       "      <th>4</th>\n",
       "      <td>BBC News</td>\n",
       "      <td>No Author</td>\n",
       "      <td>Republican</td>\n",
       "    </tr>\n",
       "    <tr>\n",
       "      <th>...</th>\n",
       "      <td>...</td>\n",
       "      <td>...</td>\n",
       "      <td>...</td>\n",
       "    </tr>\n",
       "    <tr>\n",
       "      <th>75</th>\n",
       "      <td>MSNBC</td>\n",
       "      <td>Jasen Castillo, John Schuessler, Miranda Priebe</td>\n",
       "      <td>Republican</td>\n",
       "    </tr>\n",
       "    <tr>\n",
       "      <th>76</th>\n",
       "      <td>MSNBC</td>\n",
       "      <td>Jen Psaki</td>\n",
       "      <td>Republican</td>\n",
       "    </tr>\n",
       "    <tr>\n",
       "      <th>77</th>\n",
       "      <td>Themorningnews.org</td>\n",
       "      <td>The Morning News</td>\n",
       "      <td>Republican</td>\n",
       "    </tr>\n",
       "    <tr>\n",
       "      <th>78</th>\n",
       "      <td>Finextra</td>\n",
       "      <td>Editorial Team</td>\n",
       "      <td>Republican</td>\n",
       "    </tr>\n",
       "    <tr>\n",
       "      <th>79</th>\n",
       "      <td>Japan Today</td>\n",
       "      <td>No Author</td>\n",
       "      <td>Republican</td>\n",
       "    </tr>\n",
       "  </tbody>\n",
       "</table>\n",
       "<p>376 rows × 3 columns</p>\n",
       "</div>"
      ],
      "text/plain": [
       "                source                                           author  \\\n",
       "0            The Verge                                      Nilay Patel   \n",
       "1          Gizmodo.com                                Kate Yoder, Grist   \n",
       "2             BBC News                                        No Author   \n",
       "3             BBC News                                        No Author   \n",
       "4             BBC News                                        No Author   \n",
       "..                 ...                                              ...   \n",
       "75               MSNBC  Jasen Castillo, John Schuessler, Miranda Priebe   \n",
       "76               MSNBC                                        Jen Psaki   \n",
       "77  Themorningnews.org                                 The Morning News   \n",
       "78            Finextra                                   Editorial Team   \n",
       "79         Japan Today                                        No Author   \n",
       "\n",
       "         Party  \n",
       "0   Republican  \n",
       "1   Republican  \n",
       "2   Republican  \n",
       "3   Republican  \n",
       "4   Republican  \n",
       "..         ...  \n",
       "75  Republican  \n",
       "76  Republican  \n",
       "77  Republican  \n",
       "78  Republican  \n",
       "79  Republican  \n",
       "\n",
       "[376 rows x 3 columns]"
      ]
     },
     "execution_count": 62,
     "metadata": {},
     "output_type": "execute_result"
    }
   ],
   "source": [
    "republican_sources"
   ]
  },
  {
   "cell_type": "code",
   "execution_count": 63,
   "id": "e5e58ee3",
   "metadata": {},
   "outputs": [],
   "source": [
    "all_sources = pd.concat([democrat_sources,republican_sources])"
   ]
  },
  {
   "cell_type": "markdown",
   "id": "9a3ec550",
   "metadata": {},
   "source": [
    "## 4. Supplementary Media\n",
    "\n",
    "The supplementary media collected in this section is two PDF files from each of the respective parties. The party platform is the document produced by each party, to proclaim their goals and resolutions if they take office."
   ]
  },
  {
   "cell_type": "code",
   "execution_count": 105,
   "id": "fdd7c5c3",
   "metadata": {},
   "outputs": [],
   "source": [
    "dem_pdf= pypdf.PdfReader(r\"C:\\Users\\natal\\OneDrive\\university\\info 5653\\data\\2024_democratic_party_platform.pdf\",strict=True)"
   ]
  },
  {
   "cell_type": "code",
   "execution_count": 88,
   "id": "4dd094d1",
   "metadata": {},
   "outputs": [],
   "source": [
    "rep_pdf = pypdf.PdfReader(r\"C:\\Users\\natal\\OneDrive\\university\\info 5653\\data\\2024_republican_party_platform.pdf\")"
   ]
  },
  {
   "cell_type": "code",
   "execution_count": 106,
   "id": "8c192adb",
   "metadata": {},
   "outputs": [
    {
     "data": {
      "text/plain": [
       "{'/Title': 'FINAL MASTER PLATFORM',\n",
       " '/Producer': 'Skia/PDF m129 Google Docs Renderer'}"
      ]
     },
     "execution_count": 106,
     "metadata": {},
     "output_type": "execute_result"
    }
   ],
   "source": [
    "''' EXPLORING THE METADATA'''\n",
    "dem_pdf.metadata"
   ]
  },
  {
   "cell_type": "code",
   "execution_count": 108,
   "id": "5b5ff568",
   "metadata": {},
   "outputs": [
    {
     "data": {
      "text/plain": [
       "<bound method PdfReader.decode_permissions of <pypdf._reader.PdfReader object at 0x00000206AB5438B0>>"
      ]
     },
     "execution_count": 108,
     "metadata": {},
     "output_type": "execute_result"
    }
   ],
   "source": [
    "dem_pdf."
   ]
  },
  {
   "cell_type": "code",
   "execution_count": 93,
   "id": "e13780a5",
   "metadata": {},
   "outputs": [
    {
     "data": {
      "text/plain": [
       "92"
      ]
     },
     "execution_count": 93,
     "metadata": {},
     "output_type": "execute_result"
    }
   ],
   "source": [
    "len(dem_pdf.pages)"
   ]
  },
  {
   "cell_type": "code",
   "execution_count": 90,
   "id": "6be15b59",
   "metadata": {},
   "outputs": [
    {
     "data": {
      "text/plain": [
       "{'/CreationDate': \"D:20240710083033-05'00'\",\n",
       " '/Creator': 'Adobe InDesign 19.4 (Macintosh)',\n",
       " '/ModDate': \"D:20240710083036-05'00'\",\n",
       " '/Producer': 'Adobe PDF Library 17.0',\n",
       " '/Trapped': '/False'}"
      ]
     },
     "execution_count": 90,
     "metadata": {},
     "output_type": "execute_result"
    }
   ],
   "source": [
    "rep_pdf.metadata"
   ]
  },
  {
   "cell_type": "code",
   "execution_count": 95,
   "id": "d0d96c68",
   "metadata": {},
   "outputs": [
    {
     "data": {
      "text/plain": [
       "28"
      ]
     },
     "execution_count": 95,
     "metadata": {},
     "output_type": "execute_result"
    }
   ],
   "source": [
    "len(rep_pdf.pages)"
   ]
  },
  {
   "cell_type": "markdown",
   "id": "76e7ad6f",
   "metadata": {},
   "source": [
    "#### 4.3.1 Extracting Text"
   ]
  },
  {
   "cell_type": "code",
   "execution_count": 91,
   "id": "1c5f0552",
   "metadata": {},
   "outputs": [],
   "source": [
    "''' A SIMPLE EXTRACTION TEXT'''\n",
    "page1 = rep_pdf.pages[0]"
   ]
  },
  {
   "cell_type": "code",
   "execution_count": 96,
   "id": "1071e963",
   "metadata": {},
   "outputs": [
    {
     "name": "stdout",
     "output_type": "stream",
     "text": [
      "4343RDRD REPUBLICAN NATIONAL CONVENTION REPUBLICAN NATIONAL CONVENTION\n",
      "PLATFORMTHE 2024 REPUBLICAN\n",
      "MAKE AMERICA GREAT AGAIN!\n"
     ]
    }
   ],
   "source": [
    "print(page1.extract_text())"
   ]
  },
  {
   "cell_type": "code",
   "execution_count": 97,
   "id": "accc7e3c",
   "metadata": {},
   "outputs": [],
   "source": [
    "''' EXTRACTING TEXT FROM DEMOCRAT DOCUMENT'''\n",
    "democrat_party_platform = []\n",
    "\n",
    "for page in range(0,len(dem_pdf.pages)):\n",
    "    current_page = dem_pdf.pages[page]\n",
    "    current_text = current_page.extract_text()\n",
    "    democrat_party_platform.append(current_text)"
   ]
  },
  {
   "cell_type": "code",
   "execution_count": 98,
   "id": "9364d4c9",
   "metadata": {},
   "outputs": [],
   "source": [
    "''' EXTRACTING TEXT FROM REPUBLICAN DOCUMENT'''\n",
    "republican_party_platform = []\n",
    "\n",
    "for page in range(0,len(rep_pdf.pages)):\n",
    "    current_page = rep_pdf.pages[page]\n",
    "    current_text = current_page.extract_text()\n",
    "    republican_party_platform.append(current_text)"
   ]
  },
  {
   "cell_type": "code",
   "execution_count": 111,
   "id": "4664d78d",
   "metadata": {},
   "outputs": [],
   "source": [
    "''' COMBINING INTO ONE TEXT PER PARTY '''\n",
    "democrat_party_platform_all = ' '.join(democrat_party_platform)\n",
    "republican_party_platform_all = ' '.join(republican_party_platform)"
   ]
  },
  {
   "cell_type": "code",
   "execution_count": 109,
   "id": "2886c47a",
   "metadata": {},
   "outputs": [],
   "source": [
    "''' SAVING THE RAW TEXTS AS .TXTS'''\n",
    "with open(\"democrat_party_platform.txt\", \"w\",errors='replace') as file:\n",
    "    file.write(democrat_party_platform_all)"
   ]
  },
  {
   "cell_type": "code",
   "execution_count": 112,
   "id": "60452df5",
   "metadata": {},
   "outputs": [],
   "source": [
    "with open(\"republican_party_platform.txt\", \"w\",errors='replace') as file:\n",
    "    file.write(republican_party_platform_all)"
   ]
  },
  {
   "cell_type": "code",
   "execution_count": null,
   "id": "45bfc0f6",
   "metadata": {},
   "outputs": [],
   "source": []
  }
 ],
 "metadata": {
  "kernelspec": {
   "display_name": "Python 3 (ipykernel)",
   "language": "python",
   "name": "python3"
  },
  "language_info": {
   "codemirror_mode": {
    "name": "ipython",
    "version": 3
   },
   "file_extension": ".py",
   "mimetype": "text/x-python",
   "name": "python",
   "nbconvert_exporter": "python",
   "pygments_lexer": "ipython3",
   "version": "3.10.12"
  }
 },
 "nbformat": 4,
 "nbformat_minor": 5
}
